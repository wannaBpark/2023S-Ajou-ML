{
  "cells": [
    {
      "cell_type": "markdown",
      "metadata": {
        "id": "view-in-github",
        "colab_type": "text"
      },
      "source": [
        "<a href=\"https://colab.research.google.com/github/wannaBpark/2023S-Ajou-ML/blob/main/HW4.ipynb\" target=\"_parent\"><img src=\"https://colab.research.google.com/assets/colab-badge.svg\" alt=\"Open In Colab\"/></a>"
      ]
    },
    {
      "cell_type": "markdown",
      "id": "11554590",
      "metadata": {
        "id": "11554590"
      },
      "source": [
        "# HW4"
      ]
    },
    {
      "cell_type": "markdown",
      "id": "4a8b9cd8",
      "metadata": {
        "id": "4a8b9cd8"
      },
      "source": [
        "이번 과제는 Neural Network에 관한 내용을 담고 있습니다.   \n",
        "Pytorch를 이용하여 DNN과 CNN 모델을 구현하고 학습 시켜봅시다."
      ]
    },
    {
      "cell_type": "code",
      "execution_count": 1,
      "id": "5b6d88b5",
      "metadata": {
        "id": "5b6d88b5",
        "colab": {
          "base_uri": "https://localhost:8080/"
        },
        "outputId": "3e4e2cf3-be2f-4f5a-e366-610ded8957af"
      },
      "outputs": [
        {
          "output_type": "stream",
          "name": "stdout",
          "text": [
            "Looking in indexes: https://pypi.org/simple, https://us-python.pkg.dev/colab-wheels/public/simple/\n",
            "Requirement already satisfied: tqdm in /usr/local/lib/python3.10/dist-packages (4.65.0)\n"
          ]
        }
      ],
      "source": [
        "import numpy as np\n",
        "import pandas as pd\n",
        "import matplotlib.pyplot as plt\n",
        "\n",
        "!pip install tqdm\n",
        "from tqdm.notebook import tqdm"
      ]
    },
    {
      "cell_type": "markdown",
      "id": "6b7267ba",
      "metadata": {
        "id": "6b7267ba"
      },
      "source": [
        "# 문제 1,2,3 - Deep Neural Network"
      ]
    },
    {
      "cell_type": "markdown",
      "id": "4ac844e5",
      "metadata": {
        "id": "4ac844e5"
      },
      "source": [
        "## 문제 1-1\n",
        "Tangent Hyperbolic(tanh) 출력을 포함하는  class Mytanh의 forward 함수를 작성하세요.(활성화 함수로 사용)"
      ]
    },
    {
      "cell_type": "code",
      "execution_count": 2,
      "id": "d378c079",
      "metadata": {
        "id": "d378c079"
      },
      "outputs": [],
      "source": [
        "class Mytanh:\n",
        "    def __init__(self):\n",
        "        self.params = []\n",
        "\n",
        "    def forward(self, x):\n",
        "      ################### 문제 1-1 ##############\n",
        "      ############# Tanh forward 구현 ###########\n",
        "      self.act = np.tanh(x)\n",
        "      return self.act\n",
        "\n",
        "      \n",
        "      #############################################"
      ]
    },
    {
      "cell_type": "code",
      "execution_count": 3,
      "id": "c0a8978d",
      "metadata": {
        "id": "c0a8978d",
        "colab": {
          "base_uri": "https://localhost:8080/"
        },
        "outputId": "fba9fee5-1448-4bad-ec0f-35e3b02d0055"
      },
      "outputs": [
        {
          "output_type": "stream",
          "name": "stdout",
          "text": [
            "0.09966799462495582\n"
          ]
        }
      ],
      "source": [
        "#작성한 mytanh를 테스트 해 봅니다\n",
        "tanh = Mytanh()\n",
        "print(tanh.forward(0.1))"
      ]
    },
    {
      "cell_type": "markdown",
      "id": "937610ee",
      "metadata": {
        "id": "937610ee"
      },
      "source": [
        "## 문제 1-2 & 문제 1-3"
      ]
    },
    {
      "cell_type": "markdown",
      "id": "2232052f",
      "metadata": {
        "id": "2232052f"
      },
      "source": [
        "다음은 Or (논리)연산을 위한 신경망 코드의 일부이며 Forward propagation, Back-Propagation, Prediction에 관한 내용을 담고 있습니다."
      ]
    },
    {
      "cell_type": "code",
      "execution_count": 4,
      "id": "972807a0",
      "metadata": {
        "id": "972807a0"
      },
      "outputs": [],
      "source": [
        "# 예제 데이터 \n",
        "X=np.array([[0,0,1,1],[0,1,0,1]])\n",
        "y=np.array([[0,1,1,1]])\n",
        "\n",
        "# Number of inputs, output, Hidden\n",
        "InputDim = 2\n",
        "OutputDim = 1\n",
        "HiddenDim = 2\n",
        "\n",
        "Sample_size = len(X[0])\n",
        "learning_rate = 0.1 # Learning rate\n",
        "epochs = 10000\n",
        "losses = []"
      ]
    },
    {
      "cell_type": "markdown",
      "id": "6eee025c",
      "metadata": {
        "id": "6eee025c"
      },
      "source": [
        "Neural Network를 위한 가중치 행렬(Weight과 Bias)을 정의하고 초기화 합니다. "
      ]
    },
    {
      "cell_type": "code",
      "execution_count": 5,
      "id": "6000674e",
      "metadata": {
        "id": "6000674e"
      },
      "outputs": [],
      "source": [
        "# Define weight matrices for neural network\n",
        "Weight1 = np.random.rand(HiddenDim,InputDim)  \n",
        "Weight2 = np.random.rand(InputDim,HiddenDim)  \n",
        "Bias1 = np.random.rand(InputDim,1)\n",
        "Bias2 = np.random.rand(HiddenDim,1)"
      ]
    },
    {
      "cell_type": "markdown",
      "id": "4aa6dad8",
      "metadata": {
        "id": "4aa6dad8"
      },
      "source": [
        "우리가 만든 신경망의 Forward propagation을 위한 함수는 다음과 같습니다. (sigmoid 활성화 함수를 사용합니다)"
      ]
    },
    {
      "cell_type": "code",
      "execution_count": 6,
      "id": "8fcadc0c",
      "metadata": {
        "id": "8fcadc0c"
      },
      "outputs": [],
      "source": [
        "def sigmoid(z):\n",
        "    z= 1/(1+np.exp(-z))\n",
        "    return z\n",
        "\n",
        "# Forward propagation\n",
        "def forward_prop(Weight1,Weight2,Bias1,Bias2, X):\n",
        "    Hidden1 = np.dot(Weight1,X) + Bias1\n",
        "    Prob1 = sigmoid(Hidden1)    \n",
        "    Hidden2 = np.dot(Weight2,Prob1)+ Bias2\n",
        "    Prob2 = sigmoid(Hidden2)\n",
        "    return Hidden1,Prob1,Hidden2,Prob2"
      ]
    },
    {
      "cell_type": "markdown",
      "id": "e93d31c6",
      "metadata": {
        "id": "e93d31c6"
      },
      "source": [
        "## 문제 1-2\n",
        "아래 코드틀의 빈칸에 Back propagation을 하는 코드를 작성하세요.\n",
        "\n",
        "\n",
        "*   Hint: Hidden2, Weight2, Hidden1, Weight1의 gradient 계산\n",
        "\n"
      ]
    },
    {
      "cell_type": "markdown",
      "id": "addddbfd",
      "metadata": {
        "id": "addddbfd"
      },
      "source": [
        "## 문제 1-3\n",
        "아래 코드틀의 빈칸에 Weight update를 하는 코드를 작성하세요."
      ]
    },
    {
      "cell_type": "code",
      "execution_count": 8,
      "id": "35f431bd",
      "metadata": {
        "id": "35f431bd"
      },
      "outputs": [],
      "source": [
        "for i in range(epochs):\n",
        "    Hidden1,Prob1,Hidden2,Prob2 = forward_prop(Weight1,Weight2,Bias1,Bias2,X)\n",
        "    loss = -(1/Sample_size)*np.sum(y*np.log(Prob2)+(1-y)*np.log(1-Prob2))\n",
        "    losses.append(loss)\n",
        "    ####################################################\n",
        "    ############ 문제 1-2 Back-Propagation ##############\n",
        "    ####################################################\n",
        "    \n",
        "    dZ2 = Prob2 - y\n",
        "    dW2 = (1/Sample_size)*np.dot(dZ2, Prob1.T)\n",
        "    db2 = (1/Sample_size)*np.sum(dZ2, axis = 1, keepdims = True)\n",
        "    dZ1 = np.multiply(np.dot(Weight2.T, dZ2), 1 - np.power(Prob1, 2))\n",
        "    dW1 = (1/Sample_size)*np.dot(dZ1, X.T)\n",
        "    db1 = (1/Sample_size)*np.sum(dZ1, axis = 1, keepdims = True)\n",
        "\n",
        "    ####################################################\n",
        "\n",
        "    ####################################################\n",
        "    ############## 문제 1-3 Weight Update ############### \n",
        "    ####################################################\n",
        "    Weight1 -= learning_rate * dW1\n",
        "    Weight2 -= learning_rate * dW2\n",
        "    Bias1 -= learning_rate * db1\n",
        "    Bias2 -= learning_rate * db2\n",
        "\n",
        "    ####################################################"
      ]
    },
    {
      "cell_type": "markdown",
      "id": "1abff97a",
      "metadata": {
        "id": "1abff97a"
      },
      "source": [
        "Epoch에 따른 Loss 값들을 그려보며, 훈련 진행 상황을 확인합니다"
      ]
    },
    {
      "cell_type": "code",
      "execution_count": 9,
      "id": "b7c1ab34",
      "metadata": {
        "id": "b7c1ab34",
        "colab": {
          "base_uri": "https://localhost:8080/",
          "height": 467
        },
        "outputId": "d2a9d506-7bee-48f9-e465-b5bb117e7aeb"
      },
      "outputs": [
        {
          "output_type": "execute_result",
          "data": {
            "text/plain": [
              "Text(0, 0.5, 'Loss')"
            ]
          },
          "metadata": {},
          "execution_count": 9
        },
        {
          "output_type": "display_data",
          "data": {
            "text/plain": [
              "<Figure size 640x480 with 1 Axes>"
            ],
            "image/png": "[encoded data removed]"
          },
          "metadata": {}
        }
      ],
      "source": [
        "plt.plot(losses)\n",
        "plt.xlabel(\"EPOCHS\")\n",
        "plt.ylabel(\"Loss\")"
      ]
    },
    {
      "cell_type": "markdown",
      "id": "ffe446b2",
      "metadata": {
        "id": "ffe446b2"
      },
      "source": [
        "## 문제 1-4\n",
        "아래 코드틀에 우리가 훈련한 신경망에 대하여 데이터를 넣어 test하는 코드를 작성하세요. \n",
        "\n",
        "\n",
        "*   Forward_prop을 이용하여 input (1, 0), (0, 0), (0, 1), (1, 1) 에 대한 예측값(0또는 1)을 도출합니다.\n",
        "*   Hint : Forward_prop 마지막 확률값이 0.5 이상이면 1, 아니면 0으로 예측합니다\n"
      ]
    },
    {
      "cell_type": "code",
      "execution_count": 10,
      "id": "54e41c77",
      "metadata": {
        "id": "54e41c77",
        "colab": {
          "base_uri": "https://localhost:8080/"
        },
        "outputId": "3f0f8a19-d2db-4ff6-dd74-a7e3a6ae3fc7"
      },
      "outputs": [
        {
          "output_type": "stream",
          "name": "stdout",
          "text": [
            "Input: [[1]\n",
            " [0]], Prediction: 1\n",
            "Input: [[0]\n",
            " [0]], Prediction: 0\n",
            "Input: [[0]\n",
            " [1]], Prediction: 1\n",
            "Input: [[1]\n",
            " [1]], Prediction: 1\n"
          ]
        }
      ],
      "source": [
        "test1 = np.array([[1],[0]])\n",
        "test2 = np.array([[0],[0]])\n",
        "test3 = np.array([[0],[1]])\n",
        "test4 = np.array([[1],[1]])\n",
        "\n",
        "######################## 문제 1-4  #########################\n",
        "test_data = [test1, test2, test3, test4]\n",
        "\n",
        "for data in test_data:\n",
        "    h1, prob1, h2, prob2 = forward_prop(Weight1, Weight2, Bias1, Bias2, data.reshape(-1, 1))\n",
        "    pred = np.where(prob2 >= 0.5, 1, 0)[0][0]\n",
        "    print(f\"Input: {data}, Prediction: {pred}\")\n",
        "############################################################"
      ]
    },
    {
      "cell_type": "markdown",
      "id": "c69d0ee8",
      "metadata": {
        "id": "c69d0ee8"
      },
      "source": [
        "# 문제 2 - Implementing DNN using Pytorch\n",
        "문제 1에서는 Numpy만을 이용하여 DNN의 구조와 구현에 대해 알아보았습니다.  \n",
        "문제 2에서는 Pytorch를 사용하여 신경망을 구현하고 MNIST 데이터로 분류 모델을 실습합니다.  \n",
        "코드 참고 : Pytorch Tutorial(https://tutorials.pytorch.kr/beginner/basics/quickstart_tutorial.html)"
      ]
    },
    {
      "cell_type": "code",
      "execution_count": 11,
      "id": "a2dfedcd",
      "metadata": {
        "id": "a2dfedcd",
        "colab": {
          "base_uri": "https://localhost:8080/"
        },
        "outputId": "18c09a61-e7e3-4613-a950-9767aaba51b7"
      },
      "outputs": [
        {
          "output_type": "stream",
          "name": "stdout",
          "text": [
            "Looking in indexes: https://pypi.org/simple, https://us-python.pkg.dev/colab-wheels/public/simple/\n",
            "Requirement already satisfied: torch in /usr/local/lib/python3.10/dist-packages (2.0.1+cu118)\n",
            "Requirement already satisfied: filelock in /usr/local/lib/python3.10/dist-packages (from torch) (3.12.0)\n",
            "Requirement already satisfied: typing-extensions in /usr/local/lib/python3.10/dist-packages (from torch) (4.5.0)\n",
            "Requirement already satisfied: sympy in /usr/local/lib/python3.10/dist-packages (from torch) (1.11.1)\n",
            "Requirement already satisfied: networkx in /usr/local/lib/python3.10/dist-packages (from torch) (3.1)\n",
            "Requirement already satisfied: jinja2 in /usr/local/lib/python3.10/dist-packages (from torch) (3.1.2)\n",
            "Requirement already satisfied: triton==2.0.0 in /usr/local/lib/python3.10/dist-packages (from torch) (2.0.0)\n",
            "Requirement already satisfied: cmake in /usr/local/lib/python3.10/dist-packages (from triton==2.0.0->torch) (3.25.2)\n",
            "Requirement already satisfied: lit in /usr/local/lib/python3.10/dist-packages (from triton==2.0.0->torch) (16.0.5)\n",
            "Requirement already satisfied: MarkupSafe>=2.0 in /usr/local/lib/python3.10/dist-packages (from jinja2->torch) (2.1.2)\n",
            "Requirement already satisfied: mpmath>=0.19 in /usr/local/lib/python3.10/dist-packages (from sympy->torch) (1.3.0)\n"
          ]
        }
      ],
      "source": [
        "!pip install torch"
      ]
    },
    {
      "cell_type": "markdown",
      "id": "f9a7971a",
      "metadata": {
        "id": "f9a7971a"
      },
      "source": [
        "Pytorch에서는 기초 데이터 처리를 위하여, Tensor라는 자료형을 주로 사용합니다. 필요한 모듈을 inport해 줍니다."
      ]
    },
    {
      "cell_type": "code",
      "execution_count": 12,
      "id": "9d0d0301",
      "metadata": {
        "id": "9d0d0301"
      },
      "outputs": [],
      "source": [
        "import torch\n",
        "import torch.nn as nn\n",
        "from torch.utils.data import DataLoader\n",
        "from torchvision import datasets\n",
        "from torchvision.transforms import ToTensor\n",
        "import torchvision.transforms as transforms\n",
        "import torch.nn.functional as F\n",
        "import torchvision.datasets as dsets"
      ]
    },
    {
      "cell_type": "markdown",
      "id": "2ec3e843",
      "metadata": {
        "id": "2ec3e843"
      },
      "source": [
        "Pytorch를 이용하여 신경망을 만들기 위해 torch.nn 패키지를 이용합니다.,이는 신경망 설계를 위한 기초 클래스이며,  nn.Module을 상속하여 override합니다."
      ]
    },
    {
      "cell_type": "code",
      "execution_count": 13,
      "id": "85bee819",
      "metadata": {
        "id": "85bee819"
      },
      "outputs": [],
      "source": [
        "class MySampleNetwork(nn.Module):\n",
        "    def __init__(self):\n",
        "        super(Model, self).__init__()\n",
        "        self.lin1 = nn.linear(1, 20, 5)\n",
        "        self.lin2 = nn.linear(20, 20, 5)\n",
        "\n",
        "    def forward(self, x):\n",
        "        x = F.relu(self.lin1(x))\n",
        "        return F.relu(self.lin2(x))"
      ]
    },
    {
      "cell_type": "markdown",
      "id": "677ac957",
      "metadata": {
        "id": "677ac957"
      },
      "source": [
        "MNIST는 기계 학습을 공부하기 위한 예제로 자주 활용되는 dataset으로, Training data 6만개, Test Data의 1만개의 28*28 손글씨 숫자 이미지로 구성되어 있습니다. torchvision.datasets에 MNIST 데이터가 포함되어 있어 아래와 같은 코드로 쉽게 데이터를 로드할 수 있습니다."
      ]
    },
    {
      "cell_type": "code",
      "execution_count": 14,
      "id": "07ca6825",
      "metadata": {
        "id": "07ca6825",
        "colab": {
          "base_uri": "https://localhost:8080/"
        },
        "outputId": "d5a4fb4d-e878-438e-de54-42c7ae6d47c1"
      },
      "outputs": [
        {
          "output_type": "stream",
          "name": "stdout",
          "text": [
            "Downloading http://yann.lecun.com/exdb/mnist/train-images-idx3-ubyte.gz\n",
            "Downloading http://yann.lecun.com/exdb/mnist/train-images-idx3-ubyte.gz to MNIST_data/MNIST/raw/train-images-idx3-ubyte.gz\n"
          ]
        },
        {
          "output_type": "stream",
          "name": "stderr",
          "text": [
            "100%|██████████| 9912422/9912422 [00:00<00:00, 105191583.92it/s]\n"
          ]
        },
        {
          "output_type": "stream",
          "name": "stdout",
          "text": [
            "Extracting MNIST_data/MNIST/raw/train-images-idx3-ubyte.gz to MNIST_data/MNIST/raw\n",
            "\n",
            "Downloading http://yann.lecun.com/exdb/mnist/train-labels-idx1-ubyte.gz\n",
            "Downloading http://yann.lecun.com/exdb/mnist/train-labels-idx1-ubyte.gz to MNIST_data/MNIST/raw/train-labels-idx1-ubyte.gz\n"
          ]
        },
        {
          "output_type": "stream",
          "name": "stderr",
          "text": [
            "100%|██████████| 28881/28881 [00:00<00:00, 3715362.96it/s]\n"
          ]
        },
        {
          "output_type": "stream",
          "name": "stdout",
          "text": [
            "Extracting MNIST_data/MNIST/raw/train-labels-idx1-ubyte.gz to MNIST_data/MNIST/raw\n",
            "\n",
            "Downloading http://yann.lecun.com/exdb/mnist/t10k-images-idx3-ubyte.gz\n",
            "Downloading http://yann.lecun.com/exdb/mnist/t10k-images-idx3-ubyte.gz to MNIST_data/MNIST/raw/t10k-images-idx3-ubyte.gz\n"
          ]
        },
        {
          "output_type": "stream",
          "name": "stderr",
          "text": [
            "100%|██████████| 1648877/1648877 [00:00<00:00, 40755793.75it/s]\n"
          ]
        },
        {
          "output_type": "stream",
          "name": "stdout",
          "text": [
            "Extracting MNIST_data/MNIST/raw/t10k-images-idx3-ubyte.gz to MNIST_data/MNIST/raw\n",
            "\n",
            "Downloading http://yann.lecun.com/exdb/mnist/t10k-labels-idx1-ubyte.gz\n",
            "Downloading http://yann.lecun.com/exdb/mnist/t10k-labels-idx1-ubyte.gz to MNIST_data/MNIST/raw/t10k-labels-idx1-ubyte.gz\n"
          ]
        },
        {
          "output_type": "stream",
          "name": "stderr",
          "text": [
            "100%|██████████| 4542/4542 [00:00<00:00, 4736581.00it/s]\n"
          ]
        },
        {
          "output_type": "stream",
          "name": "stdout",
          "text": [
            "Extracting MNIST_data/MNIST/raw/t10k-labels-idx1-ubyte.gz to MNIST_data/MNIST/raw\n",
            "\n"
          ]
        }
      ],
      "source": [
        "# MNIST dataset\n",
        "training_data = dsets.MNIST(root='MNIST_data/',\n",
        "                          train=True,\n",
        "                          transform=transforms.ToTensor(),\n",
        "                          download=True)\n",
        "\n",
        "test_data = dsets.MNIST(root='MNIST_data/',\n",
        "                         train=False,\n",
        "                         transform=transforms.ToTensor(),\n",
        "                         download=True)"
      ]
    },
    {
      "cell_type": "markdown",
      "id": "31e998d9",
      "metadata": {
        "id": "31e998d9"
      },
      "source": [
        "Model 구축에 필요한 hyperparameter(Epochs, Batch size, Learning rate, loss function)를 설정해 줍니다  "
      ]
    },
    {
      "cell_type": "code",
      "execution_count": 15,
      "id": "409c2b32",
      "metadata": {
        "id": "409c2b32"
      },
      "outputs": [],
      "source": [
        "# hyperparameter 설정\n",
        "import torch.optim as optim\n",
        "\n",
        "# hyperparameters\n",
        "training_epochs = 5\n",
        "batch_size = 100\n",
        "learning_rate=0.005\n",
        "criterion = torch.nn.CrossEntropyLoss()"
      ]
    },
    {
      "cell_type": "markdown",
      "id": "5e049e1e",
      "metadata": {
        "id": "5e049e1e"
      },
      "source": [
        "Pytorch의 Dataloader, 데이터를 다루고 모델을 훈련 및 시험하기 위하여 가장 주의를 기울여야 될 부분 중의 하나입니다.  Dataset을 Minibatch 형태로 만들어 주며, Batch size나, Shuffle 여부에 대한 것들을 설정할 수 있습니다."
      ]
    },
    {
      "cell_type": "code",
      "execution_count": 16,
      "id": "7540e572",
      "metadata": {
        "id": "7540e572",
        "colab": {
          "base_uri": "https://localhost:8080/"
        },
        "outputId": "4d39bd20-5f58-40e7-80f1-d9003b241660"
      },
      "outputs": [
        {
          "output_type": "stream",
          "name": "stdout",
          "text": [
            "Shape of X [N, C, H, W]: torch.Size([100, 1, 28, 28])\n",
            "Shape of y: torch.Size([100]) torch.int64\n"
          ]
        }
      ],
      "source": [
        "# data loader\n",
        "# train, test 각각의 data loader 생성\n",
        "train_loader = torch.utils.data.DataLoader(training_data, batch_size=batch_size, shuffle=True)\n",
        "test_loader = torch.utils.data.DataLoader(test_data, batch_size=batch_size, shuffle=True)\n",
        "\n",
        "for X, y in test_loader:\n",
        "    print(f\"Shape of X [N, C, H, W]: {X.shape}\")\n",
        "    print(f\"Shape of y: {y.shape} {y.dtype}\")\n",
        "    break"
      ]
    },
    {
      "cell_type": "code",
      "execution_count": 17,
      "id": "28ca3125",
      "metadata": {
        "id": "28ca3125",
        "colab": {
          "base_uri": "https://localhost:8080/",
          "height": 230
        },
        "outputId": "735f1478-c553-45d8-817b-2e74c21c3047"
      },
      "outputs": [
        {
          "output_type": "display_data",
          "data": {
            "text/plain": [
              "<Figure size 200x300 with 6 Axes>"
            ],
            "image/png": "[encoded data removed]"
          },
          "metadata": {}
        }
      ],
      "source": [
        "#TestData의 일부를 출력해 봅니다.\n",
        "row = 2\n",
        "column =3\n",
        "fig=plt.figure(figsize=(row, column),dpi=100)\n",
        "for i in range(1, row*column+1):\n",
        "    img = test_data.data[i].reshape(28,28)\n",
        "    ax = fig.add_subplot(row, column, i)\n",
        "    ax.set_xticks([])\n",
        "    ax.set_yticks([])\n",
        "    ax.title.set_text(test_data.targets.cpu().numpy()[i])\n",
        "    \n",
        "    plt.imshow(img,cmap='gray')\n",
        "plt.show()"
      ]
    },
    {
      "cell_type": "markdown",
      "id": "d7f3bd13",
      "metadata": {
        "id": "d7f3bd13"
      },
      "source": [
        "## 문제 2-1\n",
        "nn.Linear를 이용하여, 784의 입력 데이터에 대해 200차원의 출력값을 갖는 첫 번째 hidden layer(layer1), 100차원을 갖는 두 번째 layer(layer2), 그리고 10차원을 갖는 세 번째(마지막) layer(layer3)를 보유한 Class Mymodel을 완성합니다. (Hidden layer의 활성화 함수는 F.relu를 이용합니다.)"
      ]
    },
    {
      "cell_type": "markdown",
      "id": "c6bfd965",
      "metadata": {
        "id": "c6bfd965"
      },
      "source": [
        "## 문제 2-2\n",
        "아래 코드틀에서 forward 부분을 작성하세요."
      ]
    },
    {
      "cell_type": "code",
      "execution_count": 19,
      "id": "2444f5cf",
      "metadata": {
        "id": "2444f5cf"
      },
      "outputs": [],
      "source": [
        "import torch.nn as nn\n",
        "import torch.nn.functional as F\n",
        "\n",
        "class Mymodel(nn.Module):\n",
        "    def __init__(self):\n",
        "        super(Mymodel, self).__init__()\n",
        "        self.flatten = nn.Flatten()\n",
        "        ###################################################\n",
        "        ################### 문제 2-1 #######################\n",
        "\n",
        "        self.linear1 = nn.Linear(784, 200, 5)\n",
        "        self.linear2 = nn.Linear(200, 100, 5)\n",
        "        self.linear3 = nn.Linear(100, 10, 5)\n",
        "        ###################################################\n",
        "        \n",
        "    def forward(self,X):\n",
        "        X = F.relu(self.linear1(X.view(-1, 784)))\n",
        "        ###################################################\n",
        "        ################### 문제 2-2 #######################\n",
        "        X = F.relu(self.linear2(X))\n",
        "        X = self.linear3(X) \n",
        "        ###################################################\n",
        "        return F.log_softmax(X, dim=1)\n",
        "    "
      ]
    },
    {
      "cell_type": "markdown",
      "id": "d91ac4bb",
      "metadata": {
        "id": "d91ac4bb"
      },
      "source": [
        "설계한 모델의 구조를 확인합니다."
      ]
    },
    {
      "cell_type": "code",
      "execution_count": 20,
      "id": "73e66a73",
      "metadata": {
        "id": "73e66a73",
        "colab": {
          "base_uri": "https://localhost:8080/"
        },
        "outputId": "d3a04fb6-4764-4c58-fb36-ae6b32cd647d"
      },
      "outputs": [
        {
          "output_type": "stream",
          "name": "stdout",
          "text": [
            "Mymodel(\n",
            "  (flatten): Flatten(start_dim=1, end_dim=-1)\n",
            "  (linear1): Linear(in_features=784, out_features=200, bias=True)\n",
            "  (linear2): Linear(in_features=200, out_features=100, bias=True)\n",
            "  (linear3): Linear(in_features=100, out_features=10, bias=True)\n",
            ")\n"
          ]
        }
      ],
      "source": [
        "model = Mymodel()\n",
        "print(model)"
      ]
    },
    {
      "cell_type": "markdown",
      "id": "c5e41d33",
      "metadata": {
        "id": "c5e41d33"
      },
      "source": [
        "Model 훈련에 필요한 optimizer를 설정해 줍니다.Optimizer는 Adam Optimizer를 사용합니다."
      ]
    },
    {
      "cell_type": "code",
      "execution_count": 21,
      "id": "e304da93",
      "metadata": {
        "id": "e304da93"
      },
      "outputs": [],
      "source": [
        "optimizer = torch.optim.Adam(model.parameters(), lr=learning_rate)"
      ]
    },
    {
      "cell_type": "markdown",
      "id": "771006f1",
      "metadata": {
        "id": "771006f1"
      },
      "source": [
        "Model을 훈련시킵니다. GPU를 활용하고 싶다면, 다음의 코드를 주석 해제 하여 GPU 옵션을 지정합니다. GPU를 활용할 때에는 모델에 입력하는 모든 데이터가 GPU에 로드되어 있어야 합니다."
      ]
    },
    {
      "cell_type": "code",
      "execution_count": 22,
      "id": "29f52817",
      "metadata": {
        "id": "29f52817",
        "colab": {
          "base_uri": "https://localhost:8080/"
        },
        "outputId": "e3797599-4fde-4a84-8893-21c758f77b1b"
      },
      "outputs": [
        {
          "output_type": "stream",
          "name": "stdout",
          "text": [
            "Using cpu device\n"
          ]
        }
      ],
      "source": [
        "# colab에서 '런타임 유형 변경'을 하면 gpu 사용할 수 있음\n",
        "device = \"cuda\" if torch.cuda.is_available() else \"cpu\"\n",
        "print(f\"Using {device} device\")"
      ]
    },
    {
      "cell_type": "code",
      "execution_count": 23,
      "id": "629082d7",
      "metadata": {
        "id": "629082d7",
        "colab": {
          "base_uri": "https://localhost:8080/"
        },
        "outputId": "c35f6bd6-a128-40a8-ff30-5ad1a5f0b70f"
      },
      "outputs": [
        {
          "output_type": "stream",
          "name": "stdout",
          "text": [
            "[Epoch:   1] loss = 0.232684389\n",
            "[Epoch:   2] loss = 0.101258568\n",
            "[Epoch:   3] loss = 0.0737424642\n",
            "[Epoch:   4] loss = 0.061956495\n",
            "[Epoch:   5] loss = 0.0516732186\n"
          ]
        }
      ],
      "source": [
        "training_epochs = 5\n",
        "for epoch in range(training_epochs): # training_epochs 수만큼 반복\n",
        "    avg_loss = 0\n",
        "    for X_train, target in train_loader:\n",
        "        pred = model(X_train) # \n",
        "        optimizer.zero_grad() \n",
        "        loss = criterion(pred, target) # Model output과 target 비교\n",
        "        loss.backward() # gradient 계산\n",
        "        optimizer.step() # parameter 업데이트\n",
        "        avg_loss += loss / len(train_loader) \n",
        "    print('[Epoch: {:>3}] loss = {:>.9}'.format(epoch + 1, avg_loss))\n",
        " "
      ]
    },
    {
      "cell_type": "markdown",
      "id": "79415610",
      "metadata": {
        "id": "79415610"
      },
      "source": [
        "## 문제 2-3\n",
        "위에서 훈련한 모델을 Test하고자 합니다. 다음의 빈 칸을 채워, Test Accuracy를 계산하는 함수(Mytest)의 코드를 완성합니다.  \n",
        "(Hint : X_test를 모델에 통과시키고 정답을 맞추었는지 확인 후, 맞은 비율을 계산하여 백분율로 나타냅니다)"
      ]
    },
    {
      "cell_type": "code",
      "execution_count": 24,
      "id": "1b046ae4",
      "metadata": {
        "id": "1b046ae4",
        "colab": {
          "base_uri": "https://localhost:8080/"
        },
        "outputId": "c3f2d6d1-4d8f-4a0e-ff38-85d284f82535"
      },
      "outputs": [
        {
          "output_type": "stream",
          "name": "stdout",
          "text": [
            "Test Accuracy:  97.55\n"
          ]
        }
      ],
      "source": [
        "def Mytest(model, testloader):\n",
        "    model.eval()\n",
        "    with torch.no_grad(): \n",
        "        correct = 0\n",
        "        total = 0\n",
        "        for X_test, target in test_loader:\n",
        "            out = model(X_test.data)\n",
        "            #print(out, 1)\n",
        "            ###################################################\n",
        "            ################### 문제 2-3 #######################\n",
        "            max, predicted = torch.max(out.data, 1)\n",
        "            total += target.size(0)\n",
        "            correct += (predicted == target).sum().item()\n",
        "            test_acc = (correct / total) * 100\n",
        "            ####################################################     \n",
        "    return test_acc\n",
        "\n",
        "\n",
        "print('Test Accuracy: ', Mytest(model, test_loader))"
      ]
    },
    {
      "cell_type": "markdown",
      "id": "9e092c3a",
      "metadata": {
        "id": "9e092c3a"
      },
      "source": [
        "# 문제 3 - CNN\n",
        "CNN을 구현하여 MNIST 데이터로 모델을 학습시켜 봅시다.  \n",
        "DNN과 CNN이 어떻게 다른지 비교하면서 과제를 수행해보세요. "
      ]
    },
    {
      "cell_type": "code",
      "execution_count": 25,
      "id": "765a5406",
      "metadata": {
        "id": "765a5406"
      },
      "outputs": [],
      "source": [
        "import torch\n",
        "torch.manual_seed(17) # 전체 seed 설정\n",
        "\n",
        "### Data Augmentation\n",
        "\n",
        "import torchvision\n",
        "from torchvision import transforms\n",
        "\n",
        "import torch\n",
        "import torch.nn as nn\n",
        "from torch.utils.data import DataLoader\n",
        "from torchvision import datasets\n",
        "from torchvision.transforms import ToTensor\n",
        "import torchvision.transforms as transforms\n",
        "import torch.nn.functional as F\n",
        "import torchvision.datasets as dsets"
      ]
    },
    {
      "cell_type": "code",
      "execution_count": 26,
      "id": "650ef778",
      "metadata": {
        "id": "650ef778"
      },
      "outputs": [],
      "source": [
        "# transform을 통해 이미지를 변형시켜 data augmentation을 적용합니다.\n",
        "\n",
        "custom_transform = transforms.Compose([\n",
        "  transforms.RandomRotation(degrees=(0, 180)),\n",
        "  transforms.ToTensor(),\n",
        "])"
      ]
    },
    {
      "cell_type": "code",
      "execution_count": 27,
      "id": "0cf400c7",
      "metadata": {
        "id": "0cf400c7"
      },
      "outputs": [],
      "source": [
        "# MNIST dataset\n",
        "training_data = dsets.MNIST(root='MNIST_data/',\n",
        "                          train=True,\n",
        "                          transform=custom_transform, # transform 적용하여 데이터 불러오기\n",
        "                          download=True)\n",
        "\n",
        "test_data = dsets.MNIST(root='MNIST_data/',\n",
        "                         train=False,\n",
        "                         transform=custom_transform, # transform 적용하여 데이터 불러오기\n",
        "                         download=True)\n"
      ]
    },
    {
      "cell_type": "markdown",
      "id": "d5715c58",
      "metadata": {
        "id": "d5715c58"
      },
      "source": [
        "### Define Dataloader"
      ]
    },
    {
      "cell_type": "code",
      "execution_count": 28,
      "id": "e12fa543",
      "metadata": {
        "id": "e12fa543"
      },
      "outputs": [],
      "source": [
        "# data loader\n",
        "# train, test 각각의 data loader 생성\n",
        "batch_size = 16\n",
        "train_loader = torch.utils.data.DataLoader(training_data, batch_size=batch_size, shuffle=True)\n",
        "test_loader = torch.utils.data.DataLoader(test_data, batch_size=batch_size, shuffle=True)"
      ]
    },
    {
      "cell_type": "markdown",
      "id": "9a61ba9b",
      "metadata": {
        "id": "9a61ba9b"
      },
      "source": [
        "### Transformed image visualization"
      ]
    },
    {
      "cell_type": "code",
      "execution_count": 29,
      "id": "8fca1c0a",
      "metadata": {
        "id": "8fca1c0a"
      },
      "outputs": [],
      "source": [
        "import matplotlib.pyplot as plt\n",
        "import numpy as np"
      ]
    },
    {
      "cell_type": "code",
      "execution_count": 30,
      "id": "43c8e989",
      "metadata": {
        "id": "43c8e989",
        "colab": {
          "base_uri": "https://localhost:8080/",
          "height": 194
        },
        "outputId": "32c3b713-637d-43a5-fb2e-024e9496e2fd"
      },
      "outputs": [
        {
          "output_type": "display_data",
          "data": {
            "text/plain": [
              "<Figure size 640x480 with 1 Axes>"
            ],
            "image/png": "[encoded data removed]"
          },
          "metadata": {}
        }
      ],
      "source": [
        "# functions to show an image\n",
        "\n",
        "train_loader_ = torch.utils.data.DataLoader(training_data, batch_size=4, shuffle=True)\n",
        "def imshow(img):\n",
        "    # img = img / 2 + 0.5     # unnormalize\n",
        "    npimg = img.numpy()\n",
        "    plt.imshow(np.transpose(npimg, (1, 2, 0)))\n",
        "    plt.show()\n",
        "\n",
        "\n",
        "# get some random training images\n",
        "dataiter = iter(train_loader_)\n",
        "images, labels = next(dataiter)\n",
        "\n",
        "# show images\n",
        "imshow(torchvision.utils.make_grid(images))\n"
      ]
    },
    {
      "cell_type": "markdown",
      "id": "64720f37",
      "metadata": {
        "id": "64720f37"
      },
      "source": [
        "## 문제 3-1. Define a CNN architecture\n",
        "아래 주어진 ```class Net```에서 forward 함수를 참고하여 init 함수에 있는 빈칸에 layer를 정의하세요.  \n",
        "\n",
        "\n",
        "*   conv2d 함수에서 kernel_size=3으로 설정해주세요.\n",
        "\n"
      ]
    },
    {
      "cell_type": "code",
      "execution_count": 31,
      "id": "ac6d5626",
      "metadata": {
        "id": "ac6d5626"
      },
      "outputs": [],
      "source": [
        "import torch.nn as nn\n",
        "import torch.nn.functional as F\n",
        "\n",
        "class Net(nn.Module):\n",
        "    def __init__(self):\n",
        "        super().__init__()\n",
        "        ###############################\n",
        "        ########## 문제 3-1 ############\n",
        "        self.conv1 = nn.Conv2d(in_channels=1, out_channels=16, kernel_size=3)\n",
        "        self.pool = nn.MaxPool2d(kernel_size=2)\n",
        "        self.conv2 = nn.Conv2d(in_channels=16, out_channels=32, kernel_size=3)\n",
        "        self.fc = nn.Linear(32 * 5 * 5, 10)\n",
        "\n",
        "        ###############################\n",
        "    def forward(self, x):\n",
        "        x = self.pool(F.relu(self.conv1(x)))\n",
        "        x = self.pool(F.relu(self.conv2(x)))\n",
        "        x = torch.flatten(x,1)\n",
        "        x = self.fc(x)\n",
        "        return x\n",
        "\n",
        "net = Net()"
      ]
    },
    {
      "cell_type": "code",
      "execution_count": 32,
      "id": "6a89800d",
      "metadata": {
        "id": "6a89800d",
        "colab": {
          "base_uri": "https://localhost:8080/"
        },
        "outputId": "2d80dbba-83df-4978-fe09-020a9cd51835"
      },
      "outputs": [
        {
          "output_type": "stream",
          "name": "stdout",
          "text": [
            "Using cpu device\n"
          ]
        }
      ],
      "source": [
        "# cpu OR gpu 설정\n",
        "# gpu가 있을 경우, device로 cuda를 사용함\n",
        "# colab에서 '런타임 유형 변경'을 하면 gpu 사용할 수 있음\n",
        "device = \"cuda\" if torch.cuda.is_available() else \"cpu\"\n",
        "print(f\"Using {device} device\")"
      ]
    },
    {
      "cell_type": "code",
      "execution_count": 33,
      "id": "51729676",
      "metadata": {
        "id": "51729676"
      },
      "outputs": [],
      "source": [
        "criterion = torch.nn.CrossEntropyLoss()\n",
        "optimizer = torch.optim.Adam(net.parameters(), lr=0.005)"
      ]
    },
    {
      "cell_type": "code",
      "execution_count": 34,
      "id": "e1b260da",
      "metadata": {
        "id": "e1b260da",
        "colab": {
          "base_uri": "https://localhost:8080/"
        },
        "outputId": "5d0b26d0-fb8b-4472-cba9-4072c59e5273"
      },
      "outputs": [
        {
          "output_type": "stream",
          "name": "stdout",
          "text": [
            "Net(\n",
            "  (conv1): Conv2d(1, 16, kernel_size=(3, 3), stride=(1, 1))\n",
            "  (pool): MaxPool2d(kernel_size=2, stride=2, padding=0, dilation=1, ceil_mode=False)\n",
            "  (conv2): Conv2d(16, 32, kernel_size=(3, 3), stride=(1, 1))\n",
            "  (fc): Linear(in_features=800, out_features=10, bias=True)\n",
            ")\n"
          ]
        }
      ],
      "source": [
        "net = net.to(device) # device로 Network 전송\n",
        "print(net) # 모델 구조 확인"
      ]
    },
    {
      "cell_type": "code",
      "execution_count": 35,
      "id": "ee872801",
      "metadata": {
        "id": "ee872801",
        "colab": {
          "base_uri": "https://localhost:8080/"
        },
        "outputId": "5826dc1e-fb6a-4e5a-abdc-478335ba5015"
      },
      "outputs": [
        {
          "output_type": "stream",
          "name": "stdout",
          "text": [
            "[Epoch:    1] loss = 0.453802198\n",
            "[Epoch:    2] loss = 0.31117031\n",
            "[Epoch:    3] loss = 0.28484723\n",
            "[Epoch:    4] loss = 0.273999512\n",
            "[Epoch:    5] loss = 0.272497714\n",
            "[Epoch:    6] loss = 0.261131465\n",
            "[Epoch:    7] loss = 0.257952899\n",
            "[Epoch:    8] loss = 0.252230763\n",
            "[Epoch:    9] loss = 0.248842865\n",
            "[Epoch:   10] loss = 0.248980701\n",
            "[Epoch:   11] loss = 0.242288604\n",
            "[Epoch:   12] loss = 0.244464681\n",
            "[Epoch:   13] loss = 0.245715782\n",
            "[Epoch:   14] loss = 0.245432124\n",
            "[Epoch:   15] loss = 0.242194667\n",
            "[Epoch:   16] loss = 0.237048641\n",
            "[Epoch:   17] loss = 0.242544055\n",
            "[Epoch:   18] loss = 0.245172486\n",
            "[Epoch:   19] loss = 0.243616998\n",
            "[Epoch:   20] loss = 0.24427335\n"
          ]
        }
      ],
      "source": [
        "# training\n",
        "EPOCHS = 20\n",
        "for epoch in range(EPOCHS): # epochs수만큼 반복\n",
        "    avg_loss = 0\n",
        "    for data, target in train_loader:\n",
        "        # print(data.shape)\n",
        "        data = data.to(device) # 데이터를 디바이스로 이동\n",
        "        target = target.to(device)\n",
        "        pred = net(data) # \n",
        "        # print(pred)\n",
        "        optimizer.zero_grad() \n",
        "        loss = criterion(pred, target) # Model output과 target 비교\n",
        "        loss.backward() # gradient 계산\n",
        "        optimizer.step() # parameter 업데이트\n",
        "        avg_loss += loss / len(train_loader) \n",
        "    print('[Epoch: {:>4}] loss = {:>.9}'.format(epoch + 1, avg_loss))"
      ]
    },
    {
      "cell_type": "code",
      "execution_count": 36,
      "id": "06ff1406",
      "metadata": {
        "id": "06ff1406",
        "colab": {
          "base_uri": "https://localhost:8080/"
        },
        "outputId": "1ae3b4eb-3b2f-4af9-920a-0e327b2e4a0d"
      },
      "outputs": [
        {
          "output_type": "stream",
          "name": "stdout",
          "text": [
            "Test Accuracy:  92.71000000000001\n"
          ]
        }
      ],
      "source": [
        "net.to(\"cpu\") \n",
        "# gpu로 학습된 모델을 cpu로 보내기 \n",
        "# (Mytest()는 cpu에서 작동, Mytest()의 데이터와 타겟을 gpu로 보낼 수 있도록 코드를 수정하면 모델을 gpu에 두고도 테스트 가능)\n",
        "\n",
        "net.eval()\n",
        "print('Test Accuracy: ', Mytest(net, test_loader))"
      ]
    },
    {
      "cell_type": "markdown",
      "id": "70d22e1a",
      "metadata": {
        "id": "70d22e1a"
      },
      "source": [
        "## 문제 3-2\n",
        "강의노트에 있는 regularization 기법 증 한 가지 이상 사용하고 hyper-parameter(kernel size, layer 수 등) 한 가지 이상을 tuning하여 모델의 정확도가 94% 이상이 되도록 향상시키세요.\n",
        "* Net()을 자유롭게 수정 가능\n",
        "* 모델을 고정시키기 위해 ```torch.manual_seed()``` 사용 가능 \n",
        "* 정확도가 98% 이상이면 가산점 부여"
      ]
    },
    {
      "cell_type": "code",
      "execution_count": 37,
      "id": "e7XfGErr7-BN",
      "metadata": {
        "id": "e7XfGErr7-BN",
        "colab": {
          "base_uri": "https://localhost:8080/",
          "height": 1000,
          "referenced_widgets": [
            "e384c2a7594c424493abf3b4cd1806c6",
            "a27d83741a5c4d5884c7f608891d4e23",
            "deca7fbaa5ea4864979fb888ccacdbb0",
            "9c135fccbbbf4d9a801f07a8181462e5",
            "1a62c735021244439089b4e6431ab1ea",
            "9725c0b913df4029aa814ae9e6c51cf7",
            "e66ad2fe30974c33aaeae33adef2cfeb",
            "cd084b250c374ae5b653f16e3b2986fc",
            "c59fd269a6c544babb64d32f95d2523c",
            "59d036e3757049708a6bf73238b956d9",
            "4a0938e8e5ec4cb4b70711632f011c94"
          ]
        },
        "outputId": "6491af00-93ab-4195-d660-e889105b49ba"
      },
      "outputs": [
        {
          "output_type": "stream",
          "name": "stdout",
          "text": [
            "Using cpu device\n",
            "Net(\n",
            "  (pool): MaxPool2d(kernel_size=2, stride=2, padding=0, dilation=1, ceil_mode=False)\n",
            "  (conv1): Conv2d(1, 40, kernel_size=(3, 3), stride=(1, 1))\n",
            "  (bn1): BatchNorm2d(40, eps=1e-05, momentum=0.1, affine=True, track_running_stats=True)\n",
            "  (conv2): Conv2d(40, 100, kernel_size=(3, 3), stride=(1, 1))\n",
            "  (bn2): BatchNorm2d(100, eps=1e-05, momentum=0.1, affine=True, track_running_stats=True)\n",
            "  (conv3): Conv2d(100, 200, kernel_size=(3, 3), stride=(1, 1))\n",
            "  (bn3): BatchNorm2d(200, eps=1e-05, momentum=0.1, affine=True, track_running_stats=True)\n",
            "  (conv4): Conv2d(200, 200, kernel_size=(3, 3), stride=(1, 1))\n",
            "  (bn4): BatchNorm2d(200, eps=1e-05, momentum=0.1, affine=True, track_running_stats=True)\n",
            "  (fc1): Linear(in_features=200, out_features=128, bias=True)\n",
            "  (dropout): Dropout(p=0.25, inplace=False)\n",
            ")\n"
          ]
        },
        {
          "output_type": "display_data",
          "data": {
            "text/plain": [
              "  0%|          | 0/160 [00:00<?, ?it/s]"
            ],
            "application/vnd.jupyter.widget-view+json": {
              "version_major": 2,
              "version_minor": 0,
              "model_id": "e384c2a7594c424493abf3b4cd1806c6"
            }
          },
          "metadata": {}
        },
        {
          "output_type": "stream",
          "name": "stdout",
          "text": [
            "[Epoch:    1] loss = 1.69021201\n",
            "[Epoch:    2] loss = 0.939778864\n",
            "[Epoch:    3] loss = 0.719743788\n",
            "[Epoch:    4] loss = 0.60360837\n",
            "[Epoch:    5] loss = 0.519669235\n",
            "[Epoch:    6] loss = 0.465913713\n",
            "[Epoch:    7] loss = 0.426819801\n",
            "[Epoch:    8] loss = 0.389228731\n",
            "[Epoch:    9] loss = 0.362997383\n",
            "[Epoch:   10] loss = 0.340371907\n",
            "[Epoch:   11] loss = 0.324690491\n",
            "[Epoch:   12] loss = 0.306788892\n",
            "[Epoch:   13] loss = 0.295511335\n",
            "[Epoch:   14] loss = 0.28339541\n",
            "[Epoch:   15] loss = 0.270203739\n",
            "[Epoch:   16] loss = 0.266493171\n",
            "[Epoch:   17] loss = 0.2558496\n",
            "[Epoch:   18] loss = 0.248061761\n",
            "[Epoch:   19] loss = 0.239998102\n",
            "[Epoch:   20] loss = 0.235334709\n",
            "[Epoch:   21] loss = 0.23271583\n",
            "[Epoch:   22] loss = 0.21831286\n",
            "[Epoch:   23] loss = 0.223357141\n",
            "[Epoch:   24] loss = 0.217715412\n",
            "[Epoch:   25] loss = 0.207911357\n",
            "[Epoch:   26] loss = 0.204785451\n",
            "[Epoch:   27] loss = 0.201705903\n",
            "[Epoch:   28] loss = 0.200031385\n",
            "[Epoch:   29] loss = 0.194583505\n",
            "[Epoch:   30] loss = 0.192991629\n",
            "[Epoch:   31] loss = 0.192802846\n",
            "[Epoch:   32] loss = 0.185274243\n",
            "[Epoch:   33] loss = 0.182646409\n",
            "[Epoch:   34] loss = 0.17900236\n",
            "[Epoch:   35] loss = 0.181069002\n",
            "[Epoch:   36] loss = 0.177841887\n",
            "[Epoch:   37] loss = 0.176694945\n",
            "[Epoch:   38] loss = 0.174412534\n",
            "[Epoch:   39] loss = 0.171337441\n",
            "[Epoch:   40] loss = 0.168154866\n",
            "[Epoch:   41] loss = 0.167573616\n",
            "[Epoch:   42] loss = 0.165396959\n",
            "[Epoch:   43] loss = 0.16323033\n",
            "[Epoch:   44] loss = 0.162344083\n",
            "[Epoch:   45] loss = 0.155861005\n",
            "[Epoch:   46] loss = 0.160657242\n",
            "[Epoch:   47] loss = 0.156905994\n",
            "[Epoch:   48] loss = 0.155062869\n",
            "[Epoch:   49] loss = 0.155870676\n",
            "[Epoch:   50] loss = 0.149772018\n",
            "[Epoch:   51] loss = 0.148186266\n",
            "[Epoch:   52] loss = 0.147192851\n",
            "[Epoch:   53] loss = 0.146152213\n",
            "[Epoch:   54] loss = 0.146833509\n",
            "[Epoch:   55] loss = 0.147857368\n",
            "[Epoch:   56] loss = 0.145642892\n",
            "[Epoch:   57] loss = 0.145443782\n",
            "[Epoch:   58] loss = 0.145751461\n",
            "[Epoch:   59] loss = 0.141466826\n",
            "[Epoch:   60] loss = 0.140252322\n",
            "[Epoch:   61] loss = 0.141428083\n",
            "[Epoch:   62] loss = 0.137747616\n",
            "[Epoch:   63] loss = 0.140114754\n",
            "[Epoch:   64] loss = 0.13786906\n",
            "[Epoch:   65] loss = 0.136771724\n",
            "[Epoch:   66] loss = 0.136452049\n",
            "[Epoch:   67] loss = 0.136954397\n",
            "[Epoch:   68] loss = 0.134676963\n",
            "[Epoch:   69] loss = 0.13404195\n",
            "[Epoch:   70] loss = 0.131314889\n",
            "[Epoch:   71] loss = 0.135920823\n",
            "[Epoch:   72] loss = 0.130187944\n",
            "[Epoch:   73] loss = 0.131780624\n",
            "[Epoch:   74] loss = 0.130632684\n",
            "[Epoch:   75] loss = 0.129927084\n",
            "[Epoch:   76] loss = 0.127616048\n",
            "[Epoch:   77] loss = 0.128179252\n",
            "[Epoch:   78] loss = 0.129098535\n",
            "[Epoch:   79] loss = 0.126234651\n",
            "[Epoch:   80] loss = 0.12553066\n",
            "[Epoch:   81] loss = 0.125622809\n",
            "[Epoch:   82] loss = 0.124389067\n",
            "[Epoch:   83] loss = 0.125338048\n",
            "[Epoch:   84] loss = 0.122127898\n",
            "[Epoch:   85] loss = 0.122606531\n",
            "[Epoch:   86] loss = 0.122463636\n",
            "[Epoch:   87] loss = 0.122945726\n",
            "[Epoch:   88] loss = 0.121862538\n",
            "[Epoch:   89] loss = 0.12048877\n",
            "[Epoch:   90] loss = 0.118761033\n",
            "[Epoch:   91] loss = 0.122250773\n",
            "[Epoch:   92] loss = 0.116337545\n",
            "[Epoch:   93] loss = 0.119682357\n",
            "[Epoch:   94] loss = 0.117298\n",
            "[Epoch:   95] loss = 0.116632894\n",
            "[Epoch:   96] loss = 0.112212405\n",
            "[Epoch:   97] loss = 0.11861112\n",
            "[Epoch:   98] loss = 0.117311537\n",
            "[Epoch:   99] loss = 0.116366759\n",
            "[Epoch:  100] loss = 0.118472047\n",
            "[Epoch:  101] loss = 0.113575712\n",
            "[Epoch:  102] loss = 0.112821989\n",
            "[Epoch:  103] loss = 0.115932129\n",
            "[Epoch:  104] loss = 0.116070621\n",
            "[Epoch:  105] loss = 0.111591704\n",
            "[Epoch:  106] loss = 0.112520926\n",
            "[Epoch:  107] loss = 0.113267742\n",
            "[Epoch:  108] loss = 0.11105822\n",
            "[Epoch:  109] loss = 0.112654231\n",
            "[Epoch:  110] loss = 0.108267374\n",
            "[Epoch:  111] loss = 0.111726075\n",
            "[Epoch:  112] loss = 0.113094911\n",
            "[Epoch:  113] loss = 0.110920519\n",
            "[Epoch:  114] loss = 0.112888962\n",
            "[Epoch:  115] loss = 0.111166298\n",
            "[Epoch:  116] loss = 0.107623421\n",
            "[Epoch:  117] loss = 0.107306466\n",
            "[Epoch:  118] loss = 0.10899131\n",
            "[Epoch:  119] loss = 0.108080089\n",
            "[Epoch:  120] loss = 0.107341059\n",
            "[Epoch:  121] loss = 0.106396876\n",
            "[Epoch:  122] loss = 0.107004695\n",
            "[Epoch:  123] loss = 0.10574837\n",
            "[Epoch:  124] loss = 0.111409545\n",
            "[Epoch:  125] loss = 0.106019691\n",
            "[Epoch:  126] loss = 0.10717693\n",
            "[Epoch:  127] loss = 0.107417777\n",
            "[Epoch:  128] loss = 0.105157122\n",
            "[Epoch:  129] loss = 0.103550717\n",
            "[Epoch:  130] loss = 0.103184395\n",
            "[Epoch:  131] loss = 0.104543641\n",
            "[Epoch:  132] loss = 0.104758553\n",
            "[Epoch:  133] loss = 0.104790129\n",
            "[Epoch:  134] loss = 0.101865411\n",
            "[Epoch:  135] loss = 0.104105949\n",
            "[Epoch:  136] loss = 0.103454977\n",
            "[Epoch:  137] loss = 0.0998936072\n",
            "[Epoch:  138] loss = 0.102446251\n",
            "[Epoch:  139] loss = 0.100766189\n",
            "[Epoch:  140] loss = 0.100071363\n",
            "[Epoch:  141] loss = 0.102667764\n",
            "[Epoch:  142] loss = 0.100551888\n",
            "[Epoch:  143] loss = 0.0988640413\n",
            "[Epoch:  144] loss = 0.101741672\n",
            "[Epoch:  145] loss = 0.101586021\n",
            "[Epoch:  146] loss = 0.103067689\n",
            "[Epoch:  147] loss = 0.103991598\n",
            "[Epoch:  148] loss = 0.10040395\n",
            "[Epoch:  149] loss = 0.100512505\n",
            "[Epoch:  150] loss = 0.0994171053\n",
            "[Epoch:  151] loss = 0.0991520137\n",
            "[Epoch:  152] loss = 0.100843742\n",
            "[Epoch:  153] loss = 0.0990759209\n",
            "[Epoch:  154] loss = 0.102272443\n",
            "[Epoch:  155] loss = 0.0987183154\n",
            "[Epoch:  156] loss = 0.0977299139\n",
            "[Epoch:  157] loss = 0.0961794853\n",
            "[Epoch:  158] loss = 0.0951688588\n",
            "[Epoch:  159] loss = 0.0949889272\n",
            "[Epoch:  160] loss = 0.100387432\n"
          ]
        }
      ],
      "source": [
        "# 문제 3-2 #\n",
        "# 코드 작성\n",
        "import torch.nn as nn\n",
        "import torch.nn.functional as F\n",
        "\n",
        "torch.manual_seed(52) # 모델 고정 시드 설정\n",
        "class Net(nn.Module):\n",
        "    def __init__(self):\n",
        "        super().__init__()\n",
        "        self.pool = nn.MaxPool2d(kernel_size=2)\n",
        "        self.conv1 = nn.Conv2d(in_channels=1, out_channels=40, kernel_size=3)\n",
        "        self.bn1 = nn.BatchNorm2d(40) # Batch Normalization\n",
        "        self.conv2 = nn.Conv2d(in_channels=40, out_channels=100, kernel_size=3)\n",
        "        self.bn2 = nn.BatchNorm2d(100) # Batch Normalization\n",
        "        self.conv3 = nn.Conv2d(in_channels=100, out_channels=200, kernel_size=3)\n",
        "        self.bn3 = nn.BatchNorm2d(200) # Batch Normalization\n",
        "        self.conv4 = nn.Conv2d(in_channels=200, out_channels=200, kernel_size=3)\n",
        "        self.bn4 = nn.BatchNorm2d(200) # Batch Normalization\n",
        "        self.fc1 = nn.Linear(200, 128)\n",
        "        self.dropout = nn.Dropout(p=0.25)\n",
        "\n",
        "    def forward(self, x):\n",
        "        x = self.pool(F.relu(self.conv1(x)))\n",
        "        x = self.dropout(x)\n",
        "        x = self.pool(F.relu(self.conv2(x)))\n",
        "        x = self.dropout(x)\n",
        "\n",
        "        x = self.pool(F.relu(self.conv3(x)))\n",
        "        x = self.dropout(x)\n",
        "        x = torch.flatten(x, 1)\n",
        "        x = self.fc1(x)\n",
        "\n",
        "        return x\n",
        "\n",
        "\n",
        "net = Net()\n",
        "# cpu OR gpu 설정\n",
        "# gpu가 있을 경우, device로 cuda를 사용함\n",
        "# colab에서 '런타임 유형 변경'을 하면 gpu 사용할 수 있음\n",
        "device = \"cuda\" if torch.cuda.is_available() else \"cpu\"\n",
        "print(f\"Using {device} device\")\n",
        "\n",
        "criterion = torch.nn.CrossEntropyLoss()\n",
        "optimizer = torch.optim.Adam(net.parameters(), lr=0.00005)\n",
        "net = net.to(device) # device로 Network 전송\n",
        "print(net) # 모델 구조 확인\n",
        "\n",
        "# training\n",
        "EPOCHS = 160\n",
        "for epoch in tqdm(range(EPOCHS)): # epochs수만큼 반복\n",
        "    avg_loss = 0\n",
        "    for data, target in train_loader:\n",
        "        # print(data.shape)\n",
        "        data = data.to(device) # 데이터를 디바이스로 이동\n",
        "        target = target.to(device)\n",
        "        pred = net(data) # \n",
        "        # print(pred)\n",
        "        optimizer.zero_grad() \n",
        "        loss = criterion(pred, target) # Model output과 target 비교\n",
        "        loss.backward() # gradient 계산\n",
        "        if (loss > 0.7):\n",
        "            optimizer.lr=0.0001\n",
        "        elif (loss > 0.6):\n",
        "            optimizer.lr=0.00001    \n",
        "        elif loss > 0.4 : \n",
        "            optimizer.lr=0.000001\n",
        "        elif loss > 0.2 : \n",
        "            optimizer.lr=0.0000005\n",
        "        elif loss > 0.16 : \n",
        "            optimizer.lr=0.0000002\n",
        "        elif loss > 0.15 : \n",
        "            optimizer.lr=0.00000004\n",
        "        elif loss > 0.14 : \n",
        "            optimizer.lr=0.000000008\n",
        "        elif loss > 0.13 : \n",
        "            optimizer.lr=0.0000000012\n",
        "        elif loss > 0.12 :\n",
        "            optimizer.lr=0.0000000001\n",
        "        elif loss > 0.11 : \n",
        "            optimizer.lr=0.000000000008\n",
        "        elif loss > 0.10 : \n",
        "            optimizer.lr=0.000000000000001\n",
        "        optimizer.step() # parameter 업데이트\n",
        "        avg_loss += loss / len(train_loader) \n",
        "    print('[Epoch: {:>4}] loss = {:>.9}'.format(epoch + 1, avg_loss))"
      ]
    },
    {
      "cell_type": "code",
      "execution_count": 38,
      "id": "b51f74cf",
      "metadata": {
        "id": "b51f74cf",
        "colab": {
          "base_uri": "https://localhost:8080/"
        },
        "outputId": "49dd501d-c244-42a5-e548-d6a48b1d350e"
      },
      "outputs": [
        {
          "output_type": "stream",
          "name": "stdout",
          "text": [
            "Test Accuracy:  98.0\n"
          ]
        }
      ],
      "source": [
        "net.to('cpu')\n",
        "net.eval()\n",
        "print('Test Accuracy: ', Mytest(net, test_loader))"
      ]
    }
  ],
  "metadata": {
    "accelerator": "TPU",
    "colab": {
      "gpuType": "T4",
      "machine_shape": "hm",
      "provenance": [],
      "include_colab_link": true
    },
    "gpuClass": "standard",
    "kernelspec": {
      "display_name": "Python 3 (ipykernel)",
      "language": "python",
      "name": "python3"
    },
    "language_info": {
      "codemirror_mode": {
        "name": "ipython",
        "version": 3
      },
      "file_extension": ".py",
      "mimetype": "text/x-python",
      "name": "python",
      "nbconvert_exporter": "python",
      "pygments_lexer": "ipython3",
      "version": "3.9.13"
    },
    "widgets": {
      "application/vnd.jupyter.widget-state+json": {
        "e384c2a7594c424493abf3b4cd1806c6": {
          "model_module": "@jupyter-widgets/controls",
          "model_name": "HBoxModel",
          "model_module_version": "1.5.0",
          "state": {
            "_dom_classes": [],
            "_model_module": "@jupyter-widgets/controls",
            "_model_module_version": "1.5.0",
            "_model_name": "HBoxModel",
            "_view_count": null,
            "_view_module": "@jupyter-widgets/controls",
            "_view_module_version": "1.5.0",
            "_view_name": "HBoxView",
            "box_style": "",
            "children": [
              "IPY_MODEL_a27d83741a5c4d5884c7f608891d4e23",
              "IPY_MODEL_deca7fbaa5ea4864979fb888ccacdbb0",
              "IPY_MODEL_9c135fccbbbf4d9a801f07a8181462e5"
            ],
            "layout": "IPY_MODEL_1a62c735021244439089b4e6431ab1ea"
          }
        },
        "a27d83741a5c4d5884c7f608891d4e23": {
          "model_module": "@jupyter-widgets/controls",
          "model_name": "HTMLModel",
          "model_module_version": "1.5.0",
          "state": {
            "_dom_classes": [],
            "_model_module": "@jupyter-widgets/controls",
            "_model_module_version": "1.5.0",
            "_model_name": "HTMLModel",
            "_view_count": null,
            "_view_module": "@jupyter-widgets/controls",
            "_view_module_version": "1.5.0",
            "_view_name": "HTMLView",
            "description": "",
            "description_tooltip": null,
            "layout": "IPY_MODEL_9725c0b913df4029aa814ae9e6c51cf7",
            "placeholder": "​",
            "style": "IPY_MODEL_e66ad2fe30974c33aaeae33adef2cfeb",
            "value": "100%"
          }
        },
        "deca7fbaa5ea4864979fb888ccacdbb0": {
          "model_module": "@jupyter-widgets/controls",
          "model_name": "FloatProgressModel",
          "model_module_version": "1.5.0",
          "state": {
            "_dom_classes": [],
            "_model_module": "@jupyter-widgets/controls",
            "_model_module_version": "1.5.0",
            "_model_name": "FloatProgressModel",
            "_view_count": null,
            "_view_module": "@jupyter-widgets/controls",
            "_view_module_version": "1.5.0",
            "_view_name": "ProgressView",
            "bar_style": "success",
            "description": "",
            "description_tooltip": null,
            "layout": "IPY_MODEL_cd084b250c374ae5b653f16e3b2986fc",
            "max": 160,
            "min": 0,
            "orientation": "horizontal",
            "style": "IPY_MODEL_c59fd269a6c544babb64d32f95d2523c",
            "value": 160
          }
        },
        "9c135fccbbbf4d9a801f07a8181462e5": {
          "model_module": "@jupyter-widgets/controls",
          "model_name": "HTMLModel",
          "model_module_version": "1.5.0",
          "state": {
            "_dom_classes": [],
            "_model_module": "@jupyter-widgets/controls",
            "_model_module_version": "1.5.0",
            "_model_name": "HTMLModel",
            "_view_count": null,
            "_view_module": "@jupyter-widgets/controls",
            "_view_module_version": "1.5.0",
            "_view_name": "HTMLView",
            "description": "",
            "description_tooltip": null,
            "layout": "IPY_MODEL_59d036e3757049708a6bf73238b956d9",
            "placeholder": "​",
            "style": "IPY_MODEL_4a0938e8e5ec4cb4b70711632f011c94",
            "value": " 160/160 [6:05:07&lt;00:00, 133.99s/it]"
          }
        },
        "1a62c735021244439089b4e6431ab1ea": {
          "model_module": "@jupyter-widgets/base",
          "model_name": "LayoutModel",
          "model_module_version": "1.2.0",
          "state": {
            "_model_module": "@jupyter-widgets/base",
            "_model_module_version": "1.2.0",
            "_model_name": "LayoutModel",
            "_view_count": null,
            "_view_module": "@jupyter-widgets/base",
            "_view_module_version": "1.2.0",
            "_view_name": "LayoutView",
            "align_content": null,
            "align_items": null,
            "align_self": null,
            "border": null,
            "bottom": null,
            "display": null,
            "flex": null,
            "flex_flow": null,
            "grid_area": null,
            "grid_auto_columns": null,
            "grid_auto_flow": null,
            "grid_auto_rows": null,
            "grid_column": null,
            "grid_gap": null,
            "grid_row": null,
            "grid_template_areas": null,
            "grid_template_columns": null,
            "grid_template_rows": null,
            "height": null,
            "justify_content": null,
            "justify_items": null,
            "left": null,
            "margin": null,
            "max_height": null,
            "max_width": null,
            "min_height": null,
            "min_width": null,
            "object_fit": null,
            "object_position": null,
            "order": null,
            "overflow": null,
            "overflow_x": null,
            "overflow_y": null,
            "padding": null,
            "right": null,
            "top": null,
            "visibility": null,
            "width": null
          }
        },
        "9725c0b913df4029aa814ae9e6c51cf7": {
          "model_module": "@jupyter-widgets/base",
          "model_name": "LayoutModel",
          "model_module_version": "1.2.0",
          "state": {
            "_model_module": "@jupyter-widgets/base",
            "_model_module_version": "1.2.0",
            "_model_name": "LayoutModel",
            "_view_count": null,
            "_view_module": "@jupyter-widgets/base",
            "_view_module_version": "1.2.0",
            "_view_name": "LayoutView",
            "align_content": null,
            "align_items": null,
            "align_self": null,
            "border": null,
            "bottom": null,
            "display": null,
            "flex": null,
            "flex_flow": null,
            "grid_area": null,
            "grid_auto_columns": null,
            "grid_auto_flow": null,
            "grid_auto_rows": null,
            "grid_column": null,
            "grid_gap": null,
            "grid_row": null,
            "grid_template_areas": null,
            "grid_template_columns": null,
            "grid_template_rows": null,
            "height": null,
            "justify_content": null,
            "justify_items": null,
            "left": null,
            "margin": null,
            "max_height": null,
            "max_width": null,
            "min_height": null,
            "min_width": null,
            "object_fit": null,
            "object_position": null,
            "order": null,
            "overflow": null,
            "overflow_x": null,
            "overflow_y": null,
            "padding": null,
            "right": null,
            "top": null,
            "visibility": null,
            "width": null
          }
        },
        "e66ad2fe30974c33aaeae33adef2cfeb": {
          "model_module": "@jupyter-widgets/controls",
          "model_name": "DescriptionStyleModel",
          "model_module_version": "1.5.0",
          "state": {
            "_model_module": "@jupyter-widgets/controls",
            "_model_module_version": "1.5.0",
            "_model_name": "DescriptionStyleModel",
            "_view_count": null,
            "_view_module": "@jupyter-widgets/base",
            "_view_module_version": "1.2.0",
            "_view_name": "StyleView",
            "description_width": ""
          }
        },
        "cd084b250c374ae5b653f16e3b2986fc": {
          "model_module": "@jupyter-widgets/base",
          "model_name": "LayoutModel",
          "model_module_version": "1.2.0",
          "state": {
            "_model_module": "@jupyter-widgets/base",
            "_model_module_version": "1.2.0",
            "_model_name": "LayoutModel",
            "_view_count": null,
            "_view_module": "@jupyter-widgets/base",
            "_view_module_version": "1.2.0",
            "_view_name": "LayoutView",
            "align_content": null,
            "align_items": null,
            "align_self": null,
            "border": null,
            "bottom": null,
            "display": null,
            "flex": null,
            "flex_flow": null,
            "grid_area": null,
            "grid_auto_columns": null,
            "grid_auto_flow": null,
            "grid_auto_rows": null,
            "grid_column": null,
            "grid_gap": null,
            "grid_row": null,
            "grid_template_areas": null,
            "grid_template_columns": null,
            "grid_template_rows": null,
            "height": null,
            "justify_content": null,
            "justify_items": null,
            "left": null,
            "margin": null,
            "max_height": null,
            "max_width": null,
            "min_height": null,
            "min_width": null,
            "object_fit": null,
            "object_position": null,
            "order": null,
            "overflow": null,
            "overflow_x": null,
            "overflow_y": null,
            "padding": null,
            "right": null,
            "top": null,
            "visibility": null,
            "width": null
          }
        },
        "c59fd269a6c544babb64d32f95d2523c": {
          "model_module": "@jupyter-widgets/controls",
          "model_name": "ProgressStyleModel",
          "model_module_version": "1.5.0",
          "state": {
            "_model_module": "@jupyter-widgets/controls",
            "_model_module_version": "1.5.0",
            "_model_name": "ProgressStyleModel",
            "_view_count": null,
            "_view_module": "@jupyter-widgets/base",
            "_view_module_version": "1.2.0",
            "_view_name": "StyleView",
            "bar_color": null,
            "description_width": ""
          }
        },
        "59d036e3757049708a6bf73238b956d9": {
          "model_module": "@jupyter-widgets/base",
          "model_name": "LayoutModel",
          "model_module_version": "1.2.0",
          "state": {
            "_model_module": "@jupyter-widgets/base",
            "_model_module_version": "1.2.0",
            "_model_name": "LayoutModel",
            "_view_count": null,
            "_view_module": "@jupyter-widgets/base",
            "_view_module_version": "1.2.0",
            "_view_name": "LayoutView",
            "align_content": null,
            "align_items": null,
            "align_self": null,
            "border": null,
            "bottom": null,
            "display": null,
            "flex": null,
            "flex_flow": null,
            "grid_area": null,
            "grid_auto_columns": null,
            "grid_auto_flow": null,
            "grid_auto_rows": null,
            "grid_column": null,
            "grid_gap": null,
            "grid_row": null,
            "grid_template_areas": null,
            "grid_template_columns": null,
            "grid_template_rows": null,
            "height": null,
            "justify_content": null,
            "justify_items": null,
            "left": null,
            "margin": null,
            "max_height": null,
            "max_width": null,
            "min_height": null,
            "min_width": null,
            "object_fit": null,
            "object_position": null,
            "order": null,
            "overflow": null,
            "overflow_x": null,
            "overflow_y": null,
            "padding": null,
            "right": null,
            "top": null,
            "visibility": null,
            "width": null
          }
        },
        "4a0938e8e5ec4cb4b70711632f011c94": {
          "model_module": "@jupyter-widgets/controls",
          "model_name": "DescriptionStyleModel",
          "model_module_version": "1.5.0",
          "state": {
            "_model_module": "@jupyter-widgets/controls",
            "_model_module_version": "1.5.0",
            "_model_name": "DescriptionStyleModel",
            "_view_count": null,
            "_view_module": "@jupyter-widgets/base",
            "_view_module_version": "1.2.0",
            "_view_name": "StyleView",
            "description_width": ""
          }
        }
      }
    }
  },
  "nbformat": 4,
  "nbformat_minor": 5
}