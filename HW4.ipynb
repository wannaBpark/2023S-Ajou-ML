{
 "cells": [
  {
   "cell_type": "markdown",
   "id": "11554590",
   "metadata": {
    "id": "11554590"
   },
   "source": [
    "# HW4"
   ]
  },
  {
   "cell_type": "markdown",
   "id": "4a8b9cd8",
   "metadata": {
    "id": "4a8b9cd8"
   },
   "source": [
    "이번 과제는 Neural Network에 관한 내용을 담고 있습니다.   \n",
    "Pytorch를 이용하여 DNN과 CNN 모델을 구현하고 학습 시켜봅시다."
   ]
  },
  {
   "cell_type": "code",
   "execution_count": 62,
   "id": "5b6d88b5",
   "metadata": {
    "executionInfo": {
     "elapsed": 1378,
     "status": "ok",
     "timestamp": 1684515114722,
     "user": {
      "displayName": "이헌우",
      "userId": "01589004023790015281"
     },
     "user_tz": -540
    },
    "id": "5b6d88b5"
   },
   "outputs": [
    {
     "name": "stdout",
     "output_type": "stream",
     "text": [
      "Requirement already satisfied: tqdm in c:\\users\\leehu\\anaconda3\\envs\\pytorch\\lib\\site-packages (4.65.0)\n",
      "Requirement already satisfied: colorama in c:\\users\\leehu\\anaconda3\\envs\\pytorch\\lib\\site-packages (from tqdm) (0.4.6)\n"
     ]
    }
   ],
   "source": [
    "import numpy as np\n",
    "import pandas as pd\n",
    "import matplotlib.pyplot as plt\n",
    "\n",
    "!pip install tqdm\n",
    "from tqdm.notebook import tqdm\n",
    "# from tqdm import trange, notebook            # show progress-bar\n",
    "# tqdm_notebook()"
   ]
  },
  {
   "cell_type": "markdown",
   "id": "6b7267ba",
   "metadata": {
    "id": "6b7267ba"
   },
   "source": [
    "# 문제 1,2,3 - Deep Neural Network"
   ]
  },
  {
   "cell_type": "markdown",
   "id": "4ac844e5",
   "metadata": {
    "id": "4ac844e5"
   },
   "source": [
    "## 문제 1-1\n",
    "Tangent Hyperbolic(tanh) 출력을 포함하는  class Mytanh의 forward 함수를 작성하세요.(활성화 함수로 사용)"
   ]
  },
  {
   "cell_type": "code",
   "execution_count": 63,
   "id": "d378c079",
   "metadata": {
    "executionInfo": {
     "elapsed": 4,
     "status": "ok",
     "timestamp": 1684515114722,
     "user": {
      "displayName": "이헌우",
      "userId": "01589004023790015281"
     },
     "user_tz": -540
    },
    "id": "d378c079"
   },
   "outputs": [],
   "source": [
    "class Mytanh:\n",
    "    def __init__(self):\n",
    "        self.params = []\n",
    "\n",
    "    def forward(self, x):\n",
    "      ################### 문제 1-1 ##############\n",
    "      ############# Tanh forward 구현 ###########\n",
    "      self.act = np.tanh(x)\n",
    "      return self.act\n",
    "\n",
    "      \n",
    "      #############################################"
   ]
  },
  {
   "cell_type": "code",
   "execution_count": 64,
   "id": "c0a8978d",
   "metadata": {
    "colab": {
     "base_uri": "https://localhost:8080/"
    },
    "executionInfo": {
     "elapsed": 5,
     "status": "ok",
     "timestamp": 1684515114723,
     "user": {
      "displayName": "이헌우",
      "userId": "01589004023790015281"
     },
     "user_tz": -540
    },
    "id": "c0a8978d",
    "outputId": "4971593f-ae4c-4421-f7c9-809a2ae29285"
   },
   "outputs": [
    {
     "name": "stdout",
     "output_type": "stream",
     "text": [
      "0.09966799462495582\n"
     ]
    }
   ],
   "source": [
    "#작성한 mytanh를 테스트 해 봅니다\n",
    "tanh = Mytanh()\n",
    "print(tanh.forward(0.1))"
   ]
  },
  {
   "cell_type": "markdown",
   "id": "937610ee",
   "metadata": {
    "id": "937610ee"
   },
   "source": [
    "## 문제 1-2 & 문제 1-3"
   ]
  },
  {
   "cell_type": "markdown",
   "id": "2232052f",
   "metadata": {
    "id": "2232052f"
   },
   "source": [
    "다음은 Or (논리)연산을 위한 신경망 코드의 일부이며 Forward propagation, Back-Propagation, Prediction에 관한 내용을 담고 있습니다."
   ]
  },
  {
   "cell_type": "code",
   "execution_count": 65,
   "id": "972807a0",
   "metadata": {
    "executionInfo": {
     "elapsed": 3,
     "status": "ok",
     "timestamp": 1684515114723,
     "user": {
      "displayName": "이헌우",
      "userId": "01589004023790015281"
     },
     "user_tz": -540
    },
    "id": "972807a0"
   },
   "outputs": [],
   "source": [
    "# 예제 데이터 \n",
    "X=np.array([[0,0,1,1],[0,1,0,1]])\n",
    "y=np.array([[0,1,1,1]])\n",
    "\n",
    "# Number of inputs, output, Hidden\n",
    "InputDim = 2\n",
    "OutputDim = 1\n",
    "HiddenDim = 2\n",
    "\n",
    "Sample_size = len(X[0])\n",
    "learning_rate = 0.1 # Learning rate\n",
    "epochs = 10000\n",
    "losses = []"
   ]
  },
  {
   "cell_type": "markdown",
   "id": "6eee025c",
   "metadata": {
    "id": "6eee025c"
   },
   "source": [
    "Neural Network를 위한 가중치 행렬(Weight과 Bias)을 정의하고 초기화 합니다. "
   ]
  },
  {
   "cell_type": "code",
   "execution_count": 66,
   "id": "6000674e",
   "metadata": {
    "executionInfo": {
     "elapsed": 3,
     "status": "ok",
     "timestamp": 1684515114723,
     "user": {
      "displayName": "이헌우",
      "userId": "01589004023790015281"
     },
     "user_tz": -540
    },
    "id": "6000674e"
   },
   "outputs": [],
   "source": [
    "# Define weight matrices for neural network\n",
    "Weight1 = np.random.rand(HiddenDim,InputDim)  \n",
    "Weight2 = np.random.rand(InputDim,HiddenDim)  \n",
    "Bias1 = np.random.rand(InputDim,1)\n",
    "Bias2 = np.random.rand(HiddenDim,1)"
   ]
  },
  {
   "cell_type": "markdown",
   "id": "4aa6dad8",
   "metadata": {
    "id": "4aa6dad8"
   },
   "source": [
    "우리가 만든 신경망의 Forward propagation을 위한 함수는 다음과 같습니다. (sigmoid 활성화 함수를 사용합니다)"
   ]
  },
  {
   "cell_type": "code",
   "execution_count": 67,
   "id": "8fcadc0c",
   "metadata": {
    "executionInfo": {
     "elapsed": 3,
     "status": "ok",
     "timestamp": 1684515114723,
     "user": {
      "displayName": "이헌우",
      "userId": "01589004023790015281"
     },
     "user_tz": -540
    },
    "id": "8fcadc0c"
   },
   "outputs": [],
   "source": [
    "def sigmoid(z):\n",
    "    z= 1/(1+np.exp(-z))\n",
    "    return z\n",
    "\n",
    "# Forward propagation\n",
    "def forward_prop(Weight1,Weight2,Bias1,Bias2, X):\n",
    "    Hidden1 = np.dot(Weight1,X) + Bias1\n",
    "    Prob1 = sigmoid(Hidden1)    \n",
    "    Hidden2 = np.dot(Weight2,Prob1)+ Bias2\n",
    "    Prob2 = sigmoid(Hidden2)\n",
    "    return Hidden1,Prob1,Hidden2,Prob2"
   ]
  },
  {
   "cell_type": "markdown",
   "id": "e93d31c6",
   "metadata": {
    "id": "e93d31c6"
   },
   "source": [
    "## 문제 1-2\n",
    "아래 코드틀의 빈칸에 Back propagation을 하는 코드를 작성하세요.\n",
    "\n",
    "\n",
    "*   Hint: Hidden2, Weight2, Hidden1, Weight1의 gradient 계산\n",
    "\n"
   ]
  },
  {
   "cell_type": "markdown",
   "id": "addddbfd",
   "metadata": {
    "id": "addddbfd"
   },
   "source": [
    "## 문제 1-3\n",
    "아래 코드틀의 빈칸에 Weight update를 하는 코드를 작성하세요."
   ]
  },
  {
   "cell_type": "code",
   "execution_count": 70,
   "id": "35f431bd",
   "metadata": {
    "executionInfo": {
     "elapsed": 2108,
     "status": "ok",
     "timestamp": 1684515116828,
     "user": {
      "displayName": "이헌우",
      "userId": "01589004023790015281"
     },
     "user_tz": -540
    },
    "id": "35f431bd"
   },
   "outputs": [],
   "source": [
    "for i in range(epochs):\n",
    "    Hidden1,Prob1,Hidden2,Prob2 = forward_prop(Weight1,Weight2,Bias1,Bias2,X)\n",
    "    loss = -(1/Sample_size)*np.sum(y*np.log(Prob2)+(1-y)*np.log(1-Prob2))\n",
    "    losses.append(loss)\n",
    "    ####################################################\n",
    "    ############ 문제 1-2 Back-Propagation ##############\n",
    "    ####################################################\n",
    "    \n",
    "    dZ2 = Prob2 - y\n",
    "    dW2 = (1/Sample_size)*np.dot(dZ2, Prob1.T)\n",
    "    db2 = (1/Sample_size)*np.sum(dZ2, axis = 1, keepdims = True)\n",
    "    dZ1 = np.multiply(np.dot(Weight2.T, dZ2), 1 - np.power(Prob1, 2))\n",
    "    dW1 = (1/Sample_size)*np.dot(dZ1, X.T)\n",
    "    db1 = (1/Sample_size)*np.sum(dZ1, axis = 1, keepdims = True)\n",
    "\n",
    "    ####################################################\n",
    "\n",
    "    ####################################################\n",
    "    ############## 문제 1-3 Weight Update ############### \n",
    "    ####################################################\n",
    "    Weight1 -= learning_rate * dW1\n",
    "    Weight2 -= learning_rate * dW2\n",
    "    Bias1 -= learning_rate * db1\n",
    "    Bias2 -= learning_rate * db2\n",
    "\n",
    "    ####################################################"
   ]
  },
  {
   "cell_type": "markdown",
   "id": "1abff97a",
   "metadata": {
    "id": "1abff97a"
   },
   "source": [
    "Epoch에 따른 Loss 값들을 그려보며, 훈련 진행 상황을 확인합니다"
   ]
  },
  {
   "cell_type": "code",
   "execution_count": 71,
   "id": "b7c1ab34",
   "metadata": {
    "colab": {
     "base_uri": "https://localhost:8080/",
     "height": 467
    },
    "executionInfo": {
     "elapsed": 10,
     "status": "ok",
     "timestamp": 1684515116828,
     "user": {
      "displayName": "이헌우",
      "userId": "01589004023790015281"
     },
     "user_tz": -540
    },
    "id": "b7c1ab34",
    "outputId": "76a0120e-07c9-47fa-985d-94f980257988"
   },
   "outputs": [
    {
     "data": {
      "text/plain": [
       "Text(0, 0.5, 'Loss')"
      ]
     },
     "execution_count": 71,
     "metadata": {},
     "output_type": "execute_result"
    },
    {
     "data": {
      "image/png": "[encoded data removed]",
      "text/plain": [
       "<Figure size 640x480 with 1 Axes>"
      ]
     },
     "metadata": {},
     "output_type": "display_data"
    }
   ],
   "source": [
    "plt.plot(losses)\n",
    "plt.xlabel(\"EPOCHS\")\n",
    "plt.ylabel(\"Loss\")"
   ]
  },
  {
   "cell_type": "markdown",
   "id": "ffe446b2",
   "metadata": {
    "id": "ffe446b2"
   },
   "source": [
    "## 문제 1-4\n",
    "아래 코드틀에 우리가 훈련한 신경망에 대하여 데이터를 넣어 test하는 코드를 작성하세요. \n",
    "\n",
    "\n",
    "*   Forward_prop을 이용하여 input (1, 0), (0, 0), (0, 1), (1, 1) 에 대한 예측값(0또는 1)을 도출합니다.\n",
    "*   Hint : Forward_prop 마지막 확률값이 0.5 이상이면 1, 아니면 0으로 예측합니다\n"
   ]
  },
  {
   "cell_type": "code",
   "execution_count": 73,
   "id": "54e41c77",
   "metadata": {
    "colab": {
     "base_uri": "https://localhost:8080/"
    },
    "executionInfo": {
     "elapsed": 7,
     "status": "ok",
     "timestamp": 1684515116828,
     "user": {
      "displayName": "이헌우",
      "userId": "01589004023790015281"
     },
     "user_tz": -540
    },
    "id": "54e41c77",
    "outputId": "4058ec24-351e-4354-e98b-d2a7e3e4753b"
   },
   "outputs": [
    {
     "name": "stdout",
     "output_type": "stream",
     "text": [
      "Prediction: 1\n",
      "Prediction: 0\n",
      "Prediction: 1\n",
      "Prediction: 1\n"
     ]
    }
   ],
   "source": [
    "test1 = np.array([[1],[0]])\n",
    "test2 = np.array([[0],[0]])\n",
    "test3 = np.array([[0],[1]])\n",
    "test4 = np.array([[1],[1]])\n",
    "\n",
    "######################## 문제 1-4  #########################\n",
    "test_data = [test1, test2, test3, test4]\n",
    "\n",
    "for data in test_data:\n",
    "    h1, prob1, h2, prob2 = forward_prop(Weight1, Weight2, Bias1, Bias2, data.reshape(-1, 1))\n",
    "    pred = np.where(prob2 >= 0.5, 1, 0)[0][0]\n",
    "    print(f\"Prediction: {pred}\")\n",
    "############################################################"
   ]
  },
  {
   "cell_type": "markdown",
   "id": "c69d0ee8",
   "metadata": {
    "id": "c69d0ee8"
   },
   "source": [
    "# 문제 2 - Implementing DNN using Pytorch\n",
    "문제 1에서는 Numpy만을 이용하여 DNN의 구조와 구현에 대해 알아보았습니다.  \n",
    "문제 2에서는 Pytorch를 사용하여 신경망을 구현하고 MNIST 데이터로 분류 모델을 실습합니다.  \n",
    "코드 참고 : Pytorch Tutorial(https://tutorials.pytorch.kr/beginner/basics/quickstart_tutorial.html)"
   ]
  },
  {
   "cell_type": "code",
   "execution_count": 74,
   "id": "a2dfedcd",
   "metadata": {
    "colab": {
     "base_uri": "https://localhost:8080/"
    },
    "executionInfo": {
     "elapsed": 4508,
     "status": "ok",
     "timestamp": 1684515121331,
     "user": {
      "displayName": "이헌우",
      "userId": "01589004023790015281"
     },
     "user_tz": -540
    },
    "id": "a2dfedcd",
    "outputId": "90052978-3aec-4302-b45a-0feda8c7223a"
   },
   "outputs": [
    {
     "name": "stdout",
     "output_type": "stream",
     "text": [
      "Requirement already satisfied: torch in c:\\users\\leehu\\anaconda3\\envs\\pytorch\\lib\\site-packages (2.0.1)\n",
      "Requirement already satisfied: filelock in c:\\users\\leehu\\anaconda3\\envs\\pytorch\\lib\\site-packages (from torch) (3.9.0)\n",
      "Requirement already satisfied: typing-extensions in c:\\users\\leehu\\anaconda3\\envs\\pytorch\\lib\\site-packages (from torch) (4.5.0)\n",
      "Requirement already satisfied: sympy in c:\\users\\leehu\\anaconda3\\envs\\pytorch\\lib\\site-packages (from torch) (1.11.1)\n",
      "Requirement already satisfied: networkx in c:\\users\\leehu\\anaconda3\\envs\\pytorch\\lib\\site-packages (from torch) (2.8.4)\n",
      "Requirement already satisfied: jinja2 in c:\\users\\leehu\\anaconda3\\envs\\pytorch\\lib\\site-packages (from torch) (3.1.2)\n",
      "Requirement already satisfied: MarkupSafe>=2.0 in c:\\users\\leehu\\anaconda3\\envs\\pytorch\\lib\\site-packages (from jinja2->torch) (2.1.1)\n",
      "Requirement already satisfied: mpmath>=0.19 in c:\\users\\leehu\\anaconda3\\envs\\pytorch\\lib\\site-packages (from sympy->torch) (1.2.1)\n"
     ]
    }
   ],
   "source": [
    "!pip install torch"
   ]
  },
  {
   "cell_type": "markdown",
   "id": "f9a7971a",
   "metadata": {
    "id": "f9a7971a"
   },
   "source": [
    "Pytorch에서는 기초 데이터 처리를 위하여, Tensor라는 자료형을 주로 사용합니다. 필요한 모듈을 inport해 줍니다."
   ]
  },
  {
   "cell_type": "code",
   "execution_count": 11,
   "id": "9d0d0301",
   "metadata": {
    "executionInfo": {
     "elapsed": 3326,
     "status": "ok",
     "timestamp": 1684515124654,
     "user": {
      "displayName": "이헌우",
      "userId": "01589004023790015281"
     },
     "user_tz": -540
    },
    "id": "9d0d0301"
   },
   "outputs": [],
   "source": [
    "import torch\n",
    "import torch.nn as nn\n",
    "from torch.utils.data import DataLoader\n",
    "from torchvision import datasets\n",
    "from torchvision.transforms import ToTensor\n",
    "import torchvision.transforms as transforms\n",
    "import torch.nn.functional as F\n",
    "import torchvision.datasets as dsets"
   ]
  },
  {
   "cell_type": "markdown",
   "id": "2ec3e843",
   "metadata": {
    "id": "2ec3e843"
   },
   "source": [
    "Pytorch를 이용하여 신경망을 만들기 위해 torch.nn 패키지를 이용합니다.,이는 신경망 설계를 위한 기초 클래스이며,  nn.Module을 상속하여 override합니다."
   ]
  },
  {
   "cell_type": "code",
   "execution_count": 12,
   "id": "85bee819",
   "metadata": {
    "executionInfo": {
     "elapsed": 5,
     "status": "ok",
     "timestamp": 1684515124654,
     "user": {
      "displayName": "이헌우",
      "userId": "01589004023790015281"
     },
     "user_tz": -540
    },
    "id": "85bee819"
   },
   "outputs": [],
   "source": [
    "class MySampleNetwork(nn.Module):\n",
    "    def __init__(self):\n",
    "        super(Model, self).__init__()\n",
    "        self.lin1 = nn.linear(1, 20, 5)\n",
    "        self.lin2 = nn.linear(20, 20, 5)\n",
    "\n",
    "    def forward(self, x):\n",
    "        x = F.relu(self.lin1(x))\n",
    "        return F.relu(self.lin2(x))"
   ]
  },
  {
   "cell_type": "markdown",
   "id": "677ac957",
   "metadata": {
    "id": "677ac957"
   },
   "source": [
    "MNIST는 기계 학습을 공부하기 위한 예제로 자주 활용되는 dataset으로, Training data 6만개, Test Data의 1만개의 28*28 손글씨 숫자 이미지로 구성되어 있습니다. torchvision.datasets에 MNIST 데이터가 포함되어 있어 아래와 같은 코드로 쉽게 데이터를 로드할 수 있습니다."
   ]
  },
  {
   "cell_type": "code",
   "execution_count": 13,
   "id": "07ca6825",
   "metadata": {
    "executionInfo": {
     "elapsed": 6,
     "status": "ok",
     "timestamp": 1684515124655,
     "user": {
      "displayName": "이헌우",
      "userId": "01589004023790015281"
     },
     "user_tz": -540
    },
    "id": "07ca6825"
   },
   "outputs": [],
   "source": [
    "# MNIST dataset\n",
    "training_data = dsets.MNIST(root='MNIST_data/',\n",
    "                          train=True,\n",
    "                          transform=transforms.ToTensor(),\n",
    "                          download=True)\n",
    "\n",
    "test_data = dsets.MNIST(root='MNIST_data/',\n",
    "                         train=False,\n",
    "                         transform=transforms.ToTensor(),\n",
    "                         download=True)"
   ]
  },
  {
   "cell_type": "markdown",
   "id": "31e998d9",
   "metadata": {
    "id": "31e998d9"
   },
   "source": [
    "Model 구축에 필요한 hyperparameter(Epochs, Batch size, Learning rate, loss function)를 설정해 줍니다  "
   ]
  },
  {
   "cell_type": "code",
   "execution_count": 14,
   "id": "409c2b32",
   "metadata": {
    "executionInfo": {
     "elapsed": 5,
     "status": "ok",
     "timestamp": 1684515124655,
     "user": {
      "displayName": "이헌우",
      "userId": "01589004023790015281"
     },
     "user_tz": -540
    },
    "id": "409c2b32"
   },
   "outputs": [],
   "source": [
    "# hyperparameter 설정\n",
    "import torch.optim as optim\n",
    "\n",
    "# hyperparameters\n",
    "training_epochs = 5\n",
    "batch_size = 100\n",
    "learning_rate=0.005\n",
    "criterion = torch.nn.CrossEntropyLoss()"
   ]
  },
  {
   "cell_type": "markdown",
   "id": "5e049e1e",
   "metadata": {
    "id": "5e049e1e"
   },
   "source": [
    "Pytorch의 Dataloader, 데이터를 다루고 모델을 훈련 및 시험하기 위하여 가장 주의를 기울여야 될 부분 중의 하나입니다.  Dataset을 Minibatch 형태로 만들어 주며, Batch size나, Shuffle 여부에 대한 것들을 설정할 수 있습니다."
   ]
  },
  {
   "cell_type": "code",
   "execution_count": 15,
   "id": "7540e572",
   "metadata": {
    "colab": {
     "base_uri": "https://localhost:8080/"
    },
    "executionInfo": {
     "elapsed": 5,
     "status": "ok",
     "timestamp": 1684515124655,
     "user": {
      "displayName": "이헌우",
      "userId": "01589004023790015281"
     },
     "user_tz": -540
    },
    "id": "7540e572",
    "outputId": "822b1d1b-eb88-42b8-fc76-4c88849350a6"
   },
   "outputs": [
    {
     "name": "stdout",
     "output_type": "stream",
     "text": [
      "Shape of X [N, C, H, W]: torch.Size([100, 1, 28, 28])\n",
      "Shape of y: torch.Size([100]) torch.int64\n"
     ]
    }
   ],
   "source": [
    "# data loader\n",
    "# train, test 각각의 data loader 생성\n",
    "train_loader = torch.utils.data.DataLoader(training_data, batch_size=batch_size, shuffle=True)\n",
    "test_loader = torch.utils.data.DataLoader(test_data, batch_size=batch_size, shuffle=True)\n",
    "\n",
    "for X, y in test_loader:\n",
    "    print(f\"Shape of X [N, C, H, W]: {X.shape}\")\n",
    "    print(f\"Shape of y: {y.shape} {y.dtype}\")\n",
    "    break"
   ]
  },
  {
   "cell_type": "code",
   "execution_count": 16,
   "id": "28ca3125",
   "metadata": {
    "colab": {
     "base_uri": "https://localhost:8080/",
     "height": 230
    },
    "executionInfo": {
     "elapsed": 845,
     "status": "ok",
     "timestamp": 1684515125496,
     "user": {
      "displayName": "이헌우",
      "userId": "01589004023790015281"
     },
     "user_tz": -540
    },
    "id": "28ca3125",
    "outputId": "9dbc5cf8-19bf-4efb-de54-1ce0de9d618e"
   },
   "outputs": [
    {
     "data": {
      "image/png": "[encoded data removed]",
      "text/plain": [
       "<Figure size 200x300 with 6 Axes>"
      ]
     },
     "metadata": {},
     "output_type": "display_data"
    }
   ],
   "source": [
    "#TestData의 일부를 출력해 봅니다.\n",
    "row = 2\n",
    "column =3\n",
    "fig=plt.figure(figsize=(row, column),dpi=100)\n",
    "for i in range(1, row*column+1):\n",
    "    img = test_data.data[i].reshape(28,28)\n",
    "    ax = fig.add_subplot(row, column, i)\n",
    "    ax.set_xticks([])\n",
    "    ax.set_yticks([])\n",
    "    ax.title.set_text(test_data.targets.cpu().numpy()[i])\n",
    "    \n",
    "    plt.imshow(img,cmap='gray')\n",
    "plt.show()"
   ]
  },
  {
   "cell_type": "markdown",
   "id": "d7f3bd13",
   "metadata": {
    "id": "d7f3bd13"
   },
   "source": [
    "## 문제 2-1\n",
    "nn.Linear를 이용하여, 784의 입력 데이터에 대해 200차원의 출력값을 갖는 첫 번째 hidden layer(layer1), 100차원을 갖는 두 번째 layer(layer2), 그리고 10차원을 갖는 세 번째(마지막) layer(layer3)를 보유한 Class Mymodel을 완성합니다. (Hidden layer의 활성화 함수는 F.relu를 이용합니다.)"
   ]
  },
  {
   "cell_type": "markdown",
   "id": "c6bfd965",
   "metadata": {
    "id": "c6bfd965"
   },
   "source": [
    "## 문제 2-2\n",
    "아래 코드틀에서 forward 부분을 작성하세요."
   ]
  },
  {
   "cell_type": "code",
   "execution_count": 17,
   "id": "2444f5cf",
   "metadata": {
    "executionInfo": {
     "elapsed": 7,
     "status": "ok",
     "timestamp": 1684515125497,
     "user": {
      "displayName": "이헌우",
      "userId": "01589004023790015281"
     },
     "user_tz": -540
    },
    "id": "2444f5cf"
   },
   "outputs": [],
   "source": [
    "import torch.nn as nn\n",
    "import torch.nn.functional as F\n",
    "\n",
    "class Mymodel(nn.Module):\n",
    "    def __init__(self):\n",
    "        super(Mymodel, self).__init__()\n",
    "        self.flatten = nn.Flatten()\n",
    "        ###################################################\n",
    "        ################### 문제 2-1 #######################\n",
    "\n",
    "        self.linear1 = nn.Linear(784, 200, 5)\n",
    "        self.linear2 = nn.Linear(200, 100, 5)\n",
    "        self.linear3 = nn.Linear(100, 10, 5)\n",
    "        ###################################################\n",
    "        \n",
    "    def forward(self,X):\n",
    "        X = F.relu(self.linear1(X.view(-1, 784)))\n",
    "        ###################################################\n",
    "        ################### 문제 2-2 #######################\n",
    "        # X = F.relu(self.lin1(X)\n",
    "        X = F.relu(self.linear2(X))\n",
    "        X = self.linear3(X) \n",
    "        ###################################################\n",
    "        return F.log_softmax(X, dim=1)\n",
    "    "
   ]
  },
  {
   "cell_type": "markdown",
   "id": "d91ac4bb",
   "metadata": {
    "id": "d91ac4bb"
   },
   "source": [
    "설계한 모델의 구조를 확인합니다."
   ]
  },
  {
   "cell_type": "code",
   "execution_count": 18,
   "id": "73e66a73",
   "metadata": {
    "colab": {
     "base_uri": "https://localhost:8080/"
    },
    "executionInfo": {
     "elapsed": 7,
     "status": "ok",
     "timestamp": 1684515125497,
     "user": {
      "displayName": "이헌우",
      "userId": "01589004023790015281"
     },
     "user_tz": -540
    },
    "id": "73e66a73",
    "outputId": "090a9bc3-dacb-4c09-cb30-82201790858f"
   },
   "outputs": [
    {
     "name": "stdout",
     "output_type": "stream",
     "text": [
      "Mymodel(\n",
      "  (flatten): Flatten(start_dim=1, end_dim=-1)\n",
      "  (linear1): Linear(in_features=784, out_features=200, bias=True)\n",
      "  (linear2): Linear(in_features=200, out_features=100, bias=True)\n",
      "  (linear3): Linear(in_features=100, out_features=10, bias=True)\n",
      ")\n"
     ]
    }
   ],
   "source": [
    "model = Mymodel()\n",
    "print(model)"
   ]
  },
  {
   "cell_type": "markdown",
   "id": "c5e41d33",
   "metadata": {
    "id": "c5e41d33"
   },
   "source": [
    "Model 훈련에 필요한 optimizer를 설정해 줍니다.Optimizer는 Adam Optimizer를 사용합니다."
   ]
  },
  {
   "cell_type": "code",
   "execution_count": 19,
   "id": "e304da93",
   "metadata": {
    "executionInfo": {
     "elapsed": 5,
     "status": "ok",
     "timestamp": 1684515125497,
     "user": {
      "displayName": "이헌우",
      "userId": "01589004023790015281"
     },
     "user_tz": -540
    },
    "id": "e304da93"
   },
   "outputs": [],
   "source": [
    "optimizer = torch.optim.Adam(model.parameters(), lr=learning_rate)"
   ]
  },
  {
   "cell_type": "markdown",
   "id": "771006f1",
   "metadata": {
    "id": "771006f1"
   },
   "source": [
    "Model을 훈련시킵니다. GPU를 활용하고 싶다면, 다음의 코드를 주석 해제 하여 GPU 옵션을 지정합니다. GPU를 활용할 때에는 모델에 입력하는 모든 데이터가 GPU에 로드되어 있어야 합니다."
   ]
  },
  {
   "cell_type": "code",
   "execution_count": 20,
   "id": "29f52817",
   "metadata": {
    "colab": {
     "base_uri": "https://localhost:8080/"
    },
    "executionInfo": {
     "elapsed": 5,
     "status": "ok",
     "timestamp": 1684515125497,
     "user": {
      "displayName": "이헌우",
      "userId": "01589004023790015281"
     },
     "user_tz": -540
    },
    "id": "29f52817",
    "outputId": "8581b002-3124-46af-e8f6-6f0fc38c8bcf"
   },
   "outputs": [
    {
     "name": "stdout",
     "output_type": "stream",
     "text": [
      "Using cuda device\n"
     ]
    }
   ],
   "source": [
    "# colab에서 '런타임 유형 변경'을 하면 gpu 사용할 수 있음\n",
    "device = \"cuda\" if torch.cuda.is_available() else \"cpu\"\n",
    "print(f\"Using {device} device\")"
   ]
  },
  {
   "cell_type": "code",
   "execution_count": 21,
   "id": "629082d7",
   "metadata": {
    "colab": {
     "base_uri": "https://localhost:8080/",
     "height": 453
    },
    "executionInfo": {
     "elapsed": 63153,
     "status": "error",
     "timestamp": 1684515188647,
     "user": {
      "displayName": "이헌우",
      "userId": "01589004023790015281"
     },
     "user_tz": -540
    },
    "id": "629082d7",
    "outputId": "6ec8c544-f784-437e-d632-2ea4bb97d4fb"
   },
   "outputs": [
    {
     "name": "stdout",
     "output_type": "stream",
     "text": [
      "[Epoch:   1] loss = 0.226955578\n",
      "[Epoch:   2] loss = 0.101151176\n",
      "[Epoch:   3] loss = 0.0740218312\n",
      "[Epoch:   4] loss = 0.0639782399\n",
      "[Epoch:   5] loss = 0.0521087348\n"
     ]
    }
   ],
   "source": [
    "training_epochs = 5\n",
    "for epoch in range(training_epochs): # training_epochs 수만큼 반복\n",
    "    avg_loss = 0\n",
    "    for X_train, target in train_loader:\n",
    "        pred = model(X_train) # \n",
    "        optimizer.zero_grad() \n",
    "        loss = criterion(pred, target) # Model output과 target 비교\n",
    "        loss.backward() # gradient 계산\n",
    "        optimizer.step() # parameter 업데이트\n",
    "        avg_loss += loss / len(train_loader) \n",
    "    print('[Epoch: {:>3}] loss = {:>.9}'.format(epoch + 1, avg_loss))\n",
    " "
   ]
  },
  {
   "cell_type": "markdown",
   "id": "79415610",
   "metadata": {
    "id": "79415610"
   },
   "source": [
    "## 문제 2-3\n",
    "위에서 훈련한 모델을 Test하고자 합니다. 다음의 빈 칸을 채워, Test Accuracy를 계산하는 함수(Mytest)의 코드를 완성합니다.  \n",
    "(Hint : X_test를 모델에 통과시키고 정답을 맞추었는지 확인 후, 맞은 비율을 계산하여 백분율로 나타냅니다)"
   ]
  },
  {
   "cell_type": "code",
   "execution_count": 22,
   "id": "1b046ae4",
   "metadata": {
    "colab": {
     "base_uri": "https://localhost:8080/"
    },
    "executionInfo": {
     "elapsed": 2294,
     "status": "ok",
     "timestamp": 1684515194200,
     "user": {
      "displayName": "이헌우",
      "userId": "01589004023790015281"
     },
     "user_tz": -540
    },
    "id": "1b046ae4",
    "outputId": "1aaaa437-6818-46f1-a44f-de3e62b66161"
   },
   "outputs": [
    {
     "name": "stdout",
     "output_type": "stream",
     "text": [
      "Test Accuracy:  97.46000000000001\n"
     ]
    }
   ],
   "source": [
    "def Mytest(model, testloader):\n",
    "    model.eval()\n",
    "    with torch.no_grad(): \n",
    "        correct = 0\n",
    "        total = 0\n",
    "        for X_test, target in test_loader:\n",
    "            out = model(X_test.data)\n",
    "            #print(out, 1)\n",
    "            ###################################################\n",
    "            ################### 문제 2-3 #######################\n",
    "            max, predicted = torch.max(out.data, 1)\n",
    "            total += target.size(0)\n",
    "            correct += (predicted == target).sum().item()\n",
    "            test_acc = (correct / total) * 100\n",
    "\n",
    "\n",
    "\n",
    "            ####################################################     \n",
    "    return test_acc\n",
    "\n",
    "\n",
    "print('Test Accuracy: ', Mytest(model, test_loader))"
   ]
  },
  {
   "cell_type": "markdown",
   "id": "9e092c3a",
   "metadata": {
    "id": "9e092c3a"
   },
   "source": [
    "# 문제 3 - CNN\n",
    "CNN을 구현하여 MNIST 데이터로 모델을 학습시켜 봅시다.  \n",
    "DNN과 CNN이 어떻게 다른지 비교하면서 과제를 수행해보세요. "
   ]
  },
  {
   "cell_type": "code",
   "execution_count": 23,
   "id": "765a5406",
   "metadata": {
    "executionInfo": {
     "elapsed": 377,
     "status": "ok",
     "timestamp": 1684515196639,
     "user": {
      "displayName": "이헌우",
      "userId": "01589004023790015281"
     },
     "user_tz": -540
    },
    "id": "765a5406"
   },
   "outputs": [],
   "source": [
    "import torch\n",
    "torch.manual_seed(17) # 전체 seed 설정\n",
    "\n",
    "### Data Augmentation\n",
    "\n",
    "import torchvision\n",
    "from torchvision import transforms\n",
    "\n",
    "import torch\n",
    "import torch.nn as nn\n",
    "from torch.utils.data import DataLoader\n",
    "from torchvision import datasets\n",
    "from torchvision.transforms import ToTensor\n",
    "import torchvision.transforms as transforms\n",
    "import torch.nn.functional as F\n",
    "import torchvision.datasets as dsets"
   ]
  },
  {
   "cell_type": "code",
   "execution_count": 24,
   "id": "650ef778",
   "metadata": {
    "executionInfo": {
     "elapsed": 3,
     "status": "ok",
     "timestamp": 1684515198217,
     "user": {
      "displayName": "이헌우",
      "userId": "01589004023790015281"
     },
     "user_tz": -540
    },
    "id": "650ef778"
   },
   "outputs": [],
   "source": [
    "# transform을 통해 이미지를 변형시켜 data augmentation을 적용합니다.\n",
    "\n",
    "custom_transform = transforms.Compose([\n",
    "  transforms.RandomRotation(degrees=(0, 180)),\n",
    "  transforms.ToTensor(),\n",
    "])"
   ]
  },
  {
   "cell_type": "code",
   "execution_count": 25,
   "id": "0cf400c7",
   "metadata": {
    "executionInfo": {
     "elapsed": 2,
     "status": "ok",
     "timestamp": 1684515198217,
     "user": {
      "displayName": "이헌우",
      "userId": "01589004023790015281"
     },
     "user_tz": -540
    },
    "id": "0cf400c7"
   },
   "outputs": [],
   "source": [
    "# MNIST dataset\n",
    "training_data = dsets.MNIST(root='MNIST_data/',\n",
    "                          train=True,\n",
    "                          transform=custom_transform, # transform 적용하여 데이터 불러오기\n",
    "                          download=True)\n",
    "\n",
    "test_data = dsets.MNIST(root='MNIST_data/',\n",
    "                         train=False,\n",
    "                         transform=custom_transform, # transform 적용하여 데이터 불러오기\n",
    "                         download=True)\n"
   ]
  },
  {
   "cell_type": "markdown",
   "id": "d5715c58",
   "metadata": {
    "id": "d5715c58"
   },
   "source": [
    "### Define Dataloader"
   ]
  },
  {
   "cell_type": "code",
   "execution_count": 26,
   "id": "e12fa543",
   "metadata": {
    "executionInfo": {
     "elapsed": 2,
     "status": "ok",
     "timestamp": 1684515198878,
     "user": {
      "displayName": "이헌우",
      "userId": "01589004023790015281"
     },
     "user_tz": -540
    },
    "id": "e12fa543"
   },
   "outputs": [],
   "source": [
    "# data loader\n",
    "# train, test 각각의 data loader 생성\n",
    "batch_size = 16\n",
    "train_loader = torch.utils.data.DataLoader(training_data, batch_size=batch_size, shuffle=True)\n",
    "test_loader = torch.utils.data.DataLoader(test_data, batch_size=batch_size, shuffle=True)"
   ]
  },
  {
   "cell_type": "code",
   "execution_count": 27,
   "id": "81cbe3eb",
   "metadata": {
    "id": "9a61ba9b"
   },
   "outputs": [],
   "source": [
    "### Transformed image visualization"
   ]
  },
  {
   "cell_type": "code",
   "execution_count": 28,
   "id": "8fca1c0a",
   "metadata": {
    "executionInfo": {
     "elapsed": 1,
     "status": "ok",
     "timestamp": 1684515199830,
     "user": {
      "displayName": "이헌우",
      "userId": "01589004023790015281"
     },
     "user_tz": -540
    },
    "id": "8fca1c0a"
   },
   "outputs": [],
   "source": [
    "import matplotlib.pyplot as plt\n",
    "import numpy as np"
   ]
  },
  {
   "cell_type": "code",
   "execution_count": 29,
   "id": "43c8e989",
   "metadata": {
    "colab": {
     "base_uri": "https://localhost:8080/",
     "height": 194
    },
    "executionInfo": {
     "elapsed": 4,
     "status": "ok",
     "timestamp": 1684515200596,
     "user": {
      "displayName": "이헌우",
      "userId": "01589004023790015281"
     },
     "user_tz": -540
    },
    "id": "43c8e989",
    "outputId": "c0ca696d-53b1-410d-c78e-124cb33776e4"
   },
   "outputs": [
    {
     "data": {
      "image/png": "[encoded data removed]",
      "text/plain": [
       "<Figure size 640x480 with 1 Axes>"
      ]
     },
     "metadata": {},
     "output_type": "display_data"
    }
   ],
   "source": [
    "# functions to show an image\n",
    "\n",
    "train_loader_ = torch.utils.data.DataLoader(training_data, batch_size=4, shuffle=True)\n",
    "def imshow(img):\n",
    "    # img = img / 2 + 0.5     # unnormalize\n",
    "    npimg = img.numpy()\n",
    "    plt.imshow(np.transpose(npimg, (1, 2, 0)))\n",
    "    plt.show()\n",
    "\n",
    "\n",
    "# get some random training images\n",
    "dataiter = iter(train_loader_)\n",
    "images, labels = next(dataiter)\n",
    "\n",
    "# show images\n",
    "imshow(torchvision.utils.make_grid(images))\n"
   ]
  },
  {
   "cell_type": "markdown",
   "id": "64720f37",
   "metadata": {
    "id": "64720f37"
   },
   "source": [
    "## 문제 3-1. Define a CNN architecture\n",
    "아래 주어진 ```class Net```에서 forward 함수를 참고하여 init 함수에 있는 빈칸에 layer를 정의하세요.  \n",
    "\n",
    "\n",
    "*   conv2d 함수에서 kernel_size=3으로 설정해주세요.\n",
    "\n"
   ]
  },
  {
   "cell_type": "code",
   "execution_count": 30,
   "id": "ac6d5626",
   "metadata": {
    "executionInfo": {
     "elapsed": 421,
     "status": "ok",
     "timestamp": 1684515229350,
     "user": {
      "displayName": "이헌우",
      "userId": "01589004023790015281"
     },
     "user_tz": -540
    },
    "id": "ac6d5626"
   },
   "outputs": [],
   "source": [
    "import torch.nn as nn\n",
    "import torch.nn.functional as F\n",
    "\n",
    "class Net(nn.Module):\n",
    "    def __init__(self):\n",
    "        super().__init__()\n",
    "        ###############################\n",
    "        ########## 문제 3-1 ############\n",
    "        self.conv1 = nn.Conv2d(in_channels=1, out_channels=16, kernel_size=3)\n",
    "        self.pool = nn.MaxPool2d(kernel_size=2)\n",
    "        self.conv2 = nn.Conv2d(in_channels=16, out_channels=32, kernel_size=3)\n",
    "        self.fc = nn.Linear(32 * 5 * 5, 10)\n",
    "\n",
    "        ###############################\n",
    "    def forward(self, x):\n",
    "        x = self.pool(F.relu(self.conv1(x)))\n",
    "        x = self.pool(F.relu(self.conv2(x)))\n",
    "        x = torch.flatten(x,1)\n",
    "        x = self.fc(x)\n",
    "        return x\n",
    "\n",
    "net = Net()"
   ]
  },
  {
   "cell_type": "code",
   "execution_count": 31,
   "id": "6a89800d",
   "metadata": {
    "colab": {
     "base_uri": "https://localhost:8080/"
    },
    "executionInfo": {
     "elapsed": 333,
     "status": "ok",
     "timestamp": 1684515297646,
     "user": {
      "displayName": "이헌우",
      "userId": "01589004023790015281"
     },
     "user_tz": -540
    },
    "id": "6a89800d",
    "outputId": "3c1e5e49-1b3e-40cd-a83e-ff3dac640f91"
   },
   "outputs": [
    {
     "name": "stdout",
     "output_type": "stream",
     "text": [
      "Using cuda device\n"
     ]
    }
   ],
   "source": [
    "# cpu OR gpu 설정\n",
    "# gpu가 있을 경우, device로 cuda를 사용함\n",
    "# colab에서 '런타임 유형 변경'을 하면 gpu 사용할 수 있음\n",
    "device = \"cuda\" if torch.cuda.is_available() else \"cpu\"\n",
    "print(f\"Using {device} device\")"
   ]
  },
  {
   "cell_type": "code",
   "execution_count": 32,
   "id": "51729676",
   "metadata": {
    "executionInfo": {
     "elapsed": 462,
     "status": "ok",
     "timestamp": 1684515300230,
     "user": {
      "displayName": "이헌우",
      "userId": "01589004023790015281"
     },
     "user_tz": -540
    },
    "id": "51729676"
   },
   "outputs": [],
   "source": [
    "criterion = torch.nn.CrossEntropyLoss()\n",
    "optimizer = torch.optim.Adam(net.parameters(), lr=0.005)"
   ]
  },
  {
   "cell_type": "code",
   "execution_count": 33,
   "id": "e1b260da",
   "metadata": {
    "colab": {
     "base_uri": "https://localhost:8080/"
    },
    "executionInfo": {
     "elapsed": 3,
     "status": "ok",
     "timestamp": 1684515300715,
     "user": {
      "displayName": "이헌우",
      "userId": "01589004023790015281"
     },
     "user_tz": -540
    },
    "id": "e1b260da",
    "outputId": "7718a84b-e986-403a-c765-52ad914a657a"
   },
   "outputs": [
    {
     "name": "stdout",
     "output_type": "stream",
     "text": [
      "Net(\n",
      "  (conv1): Conv2d(1, 16, kernel_size=(3, 3), stride=(1, 1))\n",
      "  (pool): MaxPool2d(kernel_size=2, stride=2, padding=0, dilation=1, ceil_mode=False)\n",
      "  (conv2): Conv2d(16, 32, kernel_size=(3, 3), stride=(1, 1))\n",
      "  (fc): Linear(in_features=800, out_features=10, bias=True)\n",
      ")\n"
     ]
    }
   ],
   "source": [
    "net = net.to(device) # device로 Network 전송\n",
    "print(net) # 모델 구조 확인"
   ]
  },
  {
   "cell_type": "code",
   "execution_count": 34,
   "id": "ee872801",
   "metadata": {
    "colab": {
     "base_uri": "https://localhost:8080/",
     "height": 392
    },
    "executionInfo": {
     "elapsed": 331,
     "status": "error",
     "timestamp": 1684515231800,
     "user": {
      "displayName": "이헌우",
      "userId": "01589004023790015281"
     },
     "user_tz": -540
    },
    "id": "ee872801",
    "outputId": "61d24bc0-ee39-4733-e5f7-56b872f43295"
   },
   "outputs": [
    {
     "name": "stdout",
     "output_type": "stream",
     "text": [
      "[Epoch:    1] loss = 0.45060733\n",
      "[Epoch:    2] loss = 0.318891764\n",
      "[Epoch:    3] loss = 0.302229732\n",
      "[Epoch:    4] loss = 0.295683503\n",
      "[Epoch:    5] loss = 0.294540346\n",
      "[Epoch:    6] loss = 0.285303146\n",
      "[Epoch:    7] loss = 0.282557964\n",
      "[Epoch:    8] loss = 0.279309869\n",
      "[Epoch:    9] loss = 0.277508318\n",
      "[Epoch:   10] loss = 0.27567938\n",
      "[Epoch:   11] loss = 0.271802515\n",
      "[Epoch:   12] loss = 0.27124235\n",
      "[Epoch:   13] loss = 0.273885339\n",
      "[Epoch:   14] loss = 0.272678852\n",
      "[Epoch:   15] loss = 0.268969625\n",
      "[Epoch:   16] loss = 0.26409173\n",
      "[Epoch:   17] loss = 0.267209381\n",
      "[Epoch:   18] loss = 0.269150972\n",
      "[Epoch:   19] loss = 0.264244854\n",
      "[Epoch:   20] loss = 0.265315294\n"
     ]
    }
   ],
   "source": [
    "# training\n",
    "EPOCHS = 20\n",
    "for epoch in range(EPOCHS): # epochs수만큼 반복\n",
    "    avg_loss = 0\n",
    "    for data, target in train_loader:\n",
    "        # print(data.shape)\n",
    "        data = data.cuda() # 데이터도 gpu로 보내야함\n",
    "        target = target.cuda()\n",
    "        pred = net(data) # \n",
    "        # print(pred)\n",
    "        optimizer.zero_grad() \n",
    "        loss = criterion(pred, target) # Model output과 target 비교\n",
    "        loss.backward() # gradient 계산\n",
    "        optimizer.step() # parameter 업데이트\n",
    "        avg_loss += loss / len(train_loader) \n",
    "    print('[Epoch: {:>4}] loss = {:>.9}'.format(epoch + 1, avg_loss))"
   ]
  },
  {
   "cell_type": "code",
   "execution_count": 49,
   "id": "06ff1406",
   "metadata": {
    "executionInfo": {
     "elapsed": 6,
     "status": "aborted",
     "timestamp": 1684515188649,
     "user": {
      "displayName": "이헌우",
      "userId": "01589004023790015281"
     },
     "user_tz": -540
    },
    "id": "06ff1406"
   },
   "outputs": [
    {
     "name": "stdout",
     "output_type": "stream",
     "text": [
      "Test Accuracy:  94.08999999999999\n"
     ]
    }
   ],
   "source": [
    "net.to(\"cpu\") \n",
    "# gpu로 학습된 모델을 cpu로 보내기 \n",
    "# (Mytest()는 cpu에서 작동, Mytest()의 데이터와 타겟을 gpu로 보낼 수 있도록 코드를 수정하면 모델을 gpu에 두고도 테스트 가능)\n",
    "\n",
    "net.eval()\n",
    "print('Test Accuracy: ', Mytest(net, test_loader))"
   ]
  },
  {
   "cell_type": "markdown",
   "id": "70d22e1a",
   "metadata": {
    "id": "70d22e1a"
   },
   "source": [
    "## 문제 3-2\n",
    "강의노트에 있는 regularization 기법 증 한 가지 이상 사용하고 hyper-parameter(kernel size, layer 수 등) 한 가지 이상을 tuning하여 모델의 정확도가 94% 이상이 되도록 향상시키세요.\n",
    "* Net()을 자유롭게 수정 가능\n",
    "* 모델을 고정시키기 위해 ```torch.manual_seed()``` 사용 가능 \n",
    "* 정확도가 98% 이상이면 가산점 부여"
   ]
  },
  {
   "cell_type": "code",
   "execution_count": 51,
   "id": "e7XfGErr7-BN",
   "metadata": {
    "colab": {
     "base_uri": "https://localhost:8080/"
    },
    "id": "e7XfGErr7-BN",
    "outputId": "9e8c29cf-13f3-4a0b-de26-f314bb223c0e"
   },
   "outputs": [
    {
     "name": "stdout",
     "output_type": "stream",
     "text": [
      "Using cuda device\n",
      "Net(\n",
      "  (pool): MaxPool2d(kernel_size=2, stride=2, padding=0, dilation=1, ceil_mode=False)\n",
      "  (conv1): Conv2d(1, 40, kernel_size=(3, 3), stride=(1, 1))\n",
      "  (bn1): BatchNorm2d(40, eps=1e-05, momentum=0.1, affine=True, track_running_stats=True)\n",
      "  (conv2): Conv2d(40, 100, kernel_size=(3, 3), stride=(1, 1))\n",
      "  (bn2): BatchNorm2d(100, eps=1e-05, momentum=0.1, affine=True, track_running_stats=True)\n",
      "  (conv3): Conv2d(100, 200, kernel_size=(3, 3), stride=(1, 1))\n",
      "  (bn3): BatchNorm2d(200, eps=1e-05, momentum=0.1, affine=True, track_running_stats=True)\n",
      "  (conv4): Conv2d(200, 200, kernel_size=(3, 3), stride=(1, 1))\n",
      "  (bn4): BatchNorm2d(200, eps=1e-05, momentum=0.1, affine=True, track_running_stats=True)\n",
      "  (fc1): Linear(in_features=200, out_features=128, bias=True)\n",
      "  (fc2): Linear(in_features=128, out_features=10, bias=True)\n",
      "  (dropout): Dropout(p=0.25, inplace=False)\n",
      ")\n"
     ]
    },
    {
     "data": {
      "application/vnd.jupyter.widget-view+json": {
       "model_id": "feca3a0da73140b7957284491d29734f",
       "version_major": 2,
       "version_minor": 0
      },
      "text/plain": [
       "  0%|          | 0/160 [00:00<?, ?it/s]"
      ]
     },
     "metadata": {},
     "output_type": "display_data"
    },
    {
     "name": "stdout",
     "output_type": "stream",
     "text": [
      "[Epoch:    1] loss = 1.06309116\n",
      "[Epoch:    2] loss = 0.524820089\n",
      "[Epoch:    3] loss = 0.397560865\n",
      "[Epoch:    4] loss = 0.337231934\n",
      "[Epoch:    5] loss = 0.302190006\n",
      "[Epoch:    6] loss = 0.273457527\n",
      "[Epoch:    7] loss = 0.256853074\n",
      "[Epoch:    8] loss = 0.244332492\n",
      "[Epoch:    9] loss = 0.228926405\n",
      "[Epoch:   10] loss = 0.218436405\n",
      "[Epoch:   11] loss = 0.211104244\n",
      "[Epoch:   12] loss = 0.20136781\n",
      "[Epoch:   13] loss = 0.194099769\n",
      "[Epoch:   14] loss = 0.188970193\n",
      "[Epoch:   15] loss = 0.183181927\n",
      "[Epoch:   16] loss = 0.178979442\n",
      "[Epoch:   17] loss = 0.174175009\n",
      "[Epoch:   18] loss = 0.170289829\n",
      "[Epoch:   19] loss = 0.164919078\n",
      "[Epoch:   20] loss = 0.164052352\n",
      "[Epoch:   21] loss = 0.163427934\n",
      "[Epoch:   22] loss = 0.158243716\n",
      "[Epoch:   23] loss = 0.152916744\n",
      "[Epoch:   24] loss = 0.15206407\n",
      "[Epoch:   25] loss = 0.14915435\n",
      "[Epoch:   26] loss = 0.149737462\n",
      "[Epoch:   27] loss = 0.145860612\n",
      "[Epoch:   28] loss = 0.146758959\n",
      "[Epoch:   29] loss = 0.14415656\n",
      "[Epoch:   30] loss = 0.141514644\n",
      "[Epoch:   31] loss = 0.14035961\n",
      "[Epoch:   32] loss = 0.135106415\n",
      "[Epoch:   33] loss = 0.135274038\n",
      "[Epoch:   34] loss = 0.133572415\n",
      "[Epoch:   35] loss = 0.132058084\n",
      "[Epoch:   36] loss = 0.131024227\n",
      "[Epoch:   37] loss = 0.132307217\n",
      "[Epoch:   38] loss = 0.12731497\n",
      "[Epoch:   39] loss = 0.128236949\n",
      "[Epoch:   40] loss = 0.125928149\n",
      "[Epoch:   41] loss = 0.124451466\n",
      "[Epoch:   42] loss = 0.123521812\n",
      "[Epoch:   43] loss = 0.124050006\n",
      "[Epoch:   44] loss = 0.121821202\n",
      "[Epoch:   45] loss = 0.122592598\n",
      "[Epoch:   46] loss = 0.119299561\n",
      "[Epoch:   47] loss = 0.115499265\n",
      "[Epoch:   48] loss = 0.115942411\n",
      "[Epoch:   49] loss = 0.116434045\n",
      "[Epoch:   50] loss = 0.11502181\n",
      "[Epoch:   51] loss = 0.115957759\n",
      "[Epoch:   52] loss = 0.116320349\n",
      "[Epoch:   53] loss = 0.11333736\n",
      "[Epoch:   54] loss = 0.114720598\n",
      "[Epoch:   55] loss = 0.112808533\n",
      "[Epoch:   56] loss = 0.110501409\n",
      "[Epoch:   57] loss = 0.114827611\n",
      "[Epoch:   58] loss = 0.107434236\n",
      "[Epoch:   59] loss = 0.108567253\n",
      "[Epoch:   60] loss = 0.109842151\n",
      "[Epoch:   61] loss = 0.10977675\n",
      "[Epoch:   62] loss = 0.109417193\n",
      "[Epoch:   63] loss = 0.109248109\n",
      "[Epoch:   64] loss = 0.105397128\n",
      "[Epoch:   65] loss = 0.104756609\n",
      "[Epoch:   66] loss = 0.104800276\n",
      "[Epoch:   67] loss = 0.104019575\n",
      "[Epoch:   68] loss = 0.103057966\n",
      "[Epoch:   69] loss = 0.104816943\n",
      "[Epoch:   70] loss = 0.10482832\n",
      "[Epoch:   71] loss = 0.104062207\n",
      "[Epoch:   72] loss = 0.104391038\n",
      "[Epoch:   73] loss = 0.102100417\n",
      "[Epoch:   74] loss = 0.101420537\n",
      "[Epoch:   75] loss = 0.104231507\n",
      "[Epoch:   76] loss = 0.101065785\n",
      "[Epoch:   77] loss = 0.102882273\n",
      "[Epoch:   78] loss = 0.100382879\n",
      "[Epoch:   79] loss = 0.102247149\n",
      "[Epoch:   80] loss = 0.10025546\n",
      "[Epoch:   81] loss = 0.100274742\n",
      "[Epoch:   82] loss = 0.0984766632\n",
      "[Epoch:   83] loss = 0.0966173857\n",
      "[Epoch:   84] loss = 0.0966517553\n",
      "[Epoch:   85] loss = 0.0992273018\n",
      "[Epoch:   86] loss = 0.0978948176\n",
      "[Epoch:   87] loss = 0.0973002017\n",
      "[Epoch:   88] loss = 0.095632039\n",
      "[Epoch:   89] loss = 0.0978170857\n",
      "[Epoch:   90] loss = 0.100316994\n",
      "[Epoch:   91] loss = 0.0939791724\n",
      "[Epoch:   92] loss = 0.0956388563\n",
      "[Epoch:   93] loss = 0.0960406065\n",
      "[Epoch:   94] loss = 0.09418834\n",
      "[Epoch:   95] loss = 0.0948031917\n",
      "[Epoch:   96] loss = 0.0961334333\n",
      "[Epoch:   97] loss = 0.096697703\n",
      "[Epoch:   98] loss = 0.0942391604\n",
      "[Epoch:   99] loss = 0.0911842659\n",
      "[Epoch:  100] loss = 0.0969073623\n",
      "[Epoch:  101] loss = 0.0897374377\n",
      "[Epoch:  102] loss = 0.0931442603\n",
      "[Epoch:  103] loss = 0.0935680941\n",
      "[Epoch:  104] loss = 0.0914233029\n",
      "[Epoch:  105] loss = 0.093443796\n",
      "[Epoch:  106] loss = 0.0922739282\n",
      "[Epoch:  107] loss = 0.0933589265\n",
      "[Epoch:  108] loss = 0.0913314521\n",
      "[Epoch:  109] loss = 0.0925284177\n",
      "[Epoch:  110] loss = 0.0904828608\n",
      "[Epoch:  111] loss = 0.092150338\n",
      "[Epoch:  112] loss = 0.0904783681\n",
      "[Epoch:  113] loss = 0.0898237154\n",
      "[Epoch:  114] loss = 0.0898296461\n",
      "[Epoch:  115] loss = 0.0902487561\n",
      "[Epoch:  116] loss = 0.0907386392\n",
      "[Epoch:  117] loss = 0.0909231231\n",
      "[Epoch:  118] loss = 0.0880023465\n",
      "[Epoch:  119] loss = 0.0907664001\n",
      "[Epoch:  120] loss = 0.090068087\n",
      "[Epoch:  121] loss = 0.0899895355\n",
      "[Epoch:  122] loss = 0.0878300816\n",
      "[Epoch:  123] loss = 0.0941506699\n",
      "[Epoch:  124] loss = 0.0921684355\n",
      "[Epoch:  125] loss = 0.089451544\n",
      "[Epoch:  126] loss = 0.0895387605\n",
      "[Epoch:  127] loss = 0.0861896276\n",
      "[Epoch:  128] loss = 0.0884172395\n",
      "[Epoch:  129] loss = 0.086333409\n",
      "[Epoch:  130] loss = 0.0876852125\n",
      "[Epoch:  131] loss = 0.0855911449\n",
      "[Epoch:  132] loss = 0.0841422305\n",
      "[Epoch:  133] loss = 0.0868765339\n",
      "[Epoch:  134] loss = 0.0872520059\n",
      "[Epoch:  135] loss = 0.0864724368\n",
      "[Epoch:  136] loss = 0.0865733773\n",
      "[Epoch:  137] loss = 0.0893976688\n",
      "[Epoch:  138] loss = 0.0847032517\n",
      "[Epoch:  139] loss = 0.086042054\n",
      "[Epoch:  140] loss = 0.0844767615\n",
      "[Epoch:  141] loss = 0.0853170529\n",
      "[Epoch:  142] loss = 0.0871864855\n",
      "[Epoch:  143] loss = 0.087056689\n",
      "[Epoch:  144] loss = 0.0844576657\n",
      "[Epoch:  145] loss = 0.0838429555\n",
      "[Epoch:  146] loss = 0.0857979506\n",
      "[Epoch:  147] loss = 0.0847802609\n",
      "[Epoch:  148] loss = 0.0847062841\n",
      "[Epoch:  149] loss = 0.081803605\n",
      "[Epoch:  150] loss = 0.0856239349\n",
      "[Epoch:  151] loss = 0.0836480334\n",
      "[Epoch:  152] loss = 0.0837411284\n",
      "[Epoch:  153] loss = 0.0828665942\n",
      "[Epoch:  154] loss = 0.082643494\n",
      "[Epoch:  155] loss = 0.0851719901\n",
      "[Epoch:  156] loss = 0.0831161588\n",
      "[Epoch:  157] loss = 0.0832586214\n",
      "[Epoch:  158] loss = 0.0864119306\n",
      "[Epoch:  159] loss = 0.0814945176\n",
      "[Epoch:  160] loss = 0.0822530687\n"
     ]
    }
   ],
   "source": [
    "# 문제 3-2 #\n",
    "# 코드 작성\n",
    "import torch.nn as nn\n",
    "import torch.nn.functional as F\n",
    "\n",
    "torch.manual_seed(52) # 모델 고정 시드 설정\n",
    "class Net(nn.Module):\n",
    "    def __init__(self):\n",
    "        super().__init__()\n",
    "        self.pool = nn.MaxPool2d(kernel_size=2)\n",
    "        self.conv1 = nn.Conv2d(in_channels=1, out_channels=40, kernel_size=3)\n",
    "        self.bn1 = nn.BatchNorm2d(40) # Batch Normalization\n",
    "        self.conv2 = nn.Conv2d(in_channels=40, out_channels=100, kernel_size=3)\n",
    "        self.bn2 = nn.BatchNorm2d(100) # Batch Normalization\n",
    "        self.conv3 = nn.Conv2d(in_channels=100, out_channels=200, kernel_size=3)\n",
    "        self.bn3 = nn.BatchNorm2d(200) # Batch Normalization\n",
    "        self.conv4 = nn.Conv2d(in_channels=200, out_channels=200, kernel_size=3)\n",
    "        self.bn4 = nn.BatchNorm2d(200) # Batch Normalization\n",
    "        self.fc1 = nn.Linear(200, 128)\n",
    "        self.fc2 = nn.Linear(128, 10)\n",
    "        self.dropout = nn.Dropout(p=0.25)\n",
    "\n",
    "    def forward(self, x):\n",
    "        x = self.pool(self.bn1(F.relu(self.conv1(x))))\n",
    "        x = self.dropout(x)\n",
    "        x = self.pool(self.bn2(F.relu(self.conv2(x))))\n",
    "        x = self.dropout(x)\n",
    "\n",
    "        x = self.pool(self.bn3(F.relu(self.conv3(x))))\n",
    "        x = self.dropout(x)\n",
    "        x = torch.flatten(x, 1)\n",
    "        x = self.fc1(x)\n",
    "        x = self.fc2(x)\n",
    "\n",
    "        return x\n",
    "\n",
    "\n",
    "net = Net()\n",
    "# cpu OR gpu 설정\n",
    "# gpu가 있을 경우, device로 cuda를 사용함\n",
    "# colab에서 '런타임 유형 변경'을 하면 gpu 사용할 수 있음\n",
    "device = \"cuda\" if torch.cuda.is_available() else \"cpu\"\n",
    "print(f\"Using {device} device\")\n",
    "\n",
    "criterion = torch.nn.CrossEntropyLoss()\n",
    "optimizer = torch.optim.Adam(net.parameters(), lr=0.00005)\n",
    "net = net.to(device) # device로 Network 전송\n",
    "print(net) # 모델 구조 확인\n",
    "\n",
    "# training\n",
    "EPOCHS = 160\n",
    "for epoch in tqdm(range(EPOCHS)): # epochs수만큼 반복\n",
    "    avg_loss = 0\n",
    "    for data, target in train_loader:\n",
    "        # print(data.shape)\n",
    "        data = data.to(device) # 데이터를 디바이스로 이동\n",
    "        target = target.to(device)\n",
    "        pred = net(data) # \n",
    "        # print(pred)\n",
    "        optimizer.zero_grad(set_to_none=True) \n",
    "        loss = criterion(pred, target) # Model output과 target 비교\n",
    "        loss.backward() # gradient 계산\n",
    "        optimizer.step() # parameter 업데이트\n",
    "        avg_loss += loss / len(train_loader) \n",
    "    print('[Epoch: {:>4}] loss = {:>.9}'.format(epoch + 1, avg_loss))"
   ]
  },
  {
   "cell_type": "code",
   "execution_count": 52,
   "id": "b51f74cf",
   "metadata": {
    "id": "b51f74cf"
   },
   "outputs": [
    {
     "name": "stdout",
     "output_type": "stream",
     "text": [
      "Test Accuracy:  98.57000000000001\n"
     ]
    }
   ],
   "source": [
    "net.to('cpu')\n",
    "net.eval()\n",
    "print('Test Accuracy: ', Mytest(net, test_loader))"
   ]
  },
  {
   "cell_type": "code",
   "execution_count": null,
   "id": "c3c6b16f",
   "metadata": {},
   "outputs": [],
   "source": []
  }
 ],
 "metadata": {
  "accelerator": "GPU",
  "colab": {
   "gpuType": "T4",
   "machine_shape": "hm",
   "provenance": [
    {
     "file_id": "https://github.com/wannaBpark/2023S-Ajou-ML/blob/main/HW4.ipynb",
     "timestamp": 1684317094138
    }
   ]
  },
  "gpuClass": "standard",
  "kernelspec": {
   "display_name": "Pytorch",
   "language": "python",
   "name": "pytorch"
  },
  "language_info": {
   "codemirror_mode": {
    "name": "ipython",
    "version": 3
   },
   "file_extension": ".py",
   "mimetype": "text/x-python",
   "name": "python",
   "nbconvert_exporter": "python",
   "pygments_lexer": "ipython3",
   "version": "3.9.16"
  }
 },
 "nbformat": 4,
 "nbformat_minor": 5
}
