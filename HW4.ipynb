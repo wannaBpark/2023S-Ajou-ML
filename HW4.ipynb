{
  "cells": [
    {
      "cell_type": "markdown",
      "metadata": {
        "id": "view-in-github",
        "colab_type": "text"
      },
      "source": [
        "<a href=\"https://colab.research.google.com/github/wannaBpark/2023S-Ajou-ML/blob/main/HW4.ipynb\" target=\"_parent\"><img src=\"https://colab.research.google.com/assets/colab-badge.svg\" alt=\"Open In Colab\"/></a>"
      ]
    },
    {
      "cell_type": "markdown",
      "id": "11554590",
      "metadata": {
        "id": "11554590"
      },
      "source": [
        "# HW4"
      ]
    },
    {
      "cell_type": "markdown",
      "id": "4a8b9cd8",
      "metadata": {
        "id": "4a8b9cd8"
      },
      "source": [
        "이번 과제는 Neural Network에 관한 내용을 담고 있습니다.   \n",
        "Pytorch를 이용하여 DNN과 CNN 모델을 구현하고 학습 시켜봅시다."
      ]
    },
    {
      "cell_type": "code",
      "execution_count": null,
      "id": "5b6d88b5",
      "metadata": {
        "id": "5b6d88b5"
      },
      "outputs": [],
      "source": [
        "import numpy as np\n",
        "import pandas as pd\n",
        "import matplotlib.pyplot as plt"
      ]
    },
    {
      "cell_type": "markdown",
      "id": "6b7267ba",
      "metadata": {
        "id": "6b7267ba"
      },
      "source": [
        "# 문제 1,2,3 - Deep Neural Network"
      ]
    },
    {
      "cell_type": "markdown",
      "id": "4ac844e5",
      "metadata": {
        "id": "4ac844e5"
      },
      "source": [
        "## 문제 1-1\n",
        "Tangent Hyperbolic(tanh) 출력을 포함하는  class Mytanh의 forward 함수를 작성하세요.(활성화 함수로 사용)"
      ]
    },
    {
      "cell_type": "code",
      "execution_count": null,
      "id": "d378c079",
      "metadata": {
        "id": "d378c079"
      },
      "outputs": [],
      "source": [
        "class Mytanh:\n",
        "    def __init__(self):\n",
        "        self.params = []\n",
        "\n",
        "    def forward(self, x):\n",
        "      ################### 문제 1-1 ##############\n",
        "      ############# Tanh forward 구현 ###########\n",
        "      \n",
        "\n",
        "      \n",
        "      #############################################"
      ]
    },
    {
      "cell_type": "code",
      "execution_count": null,
      "id": "c0a8978d",
      "metadata": {
        "id": "c0a8978d"
      },
      "outputs": [],
      "source": [
        "#작성한 mytanh를 테스트 해 봅니다\n",
        "tanh = Mytanh()\n",
        "print(tanh.forward(0.1))"
      ]
    },
    {
      "cell_type": "markdown",
      "id": "937610ee",
      "metadata": {
        "id": "937610ee"
      },
      "source": [
        "## 문제 1-2 & 문제 1-3"
      ]
    },
    {
      "cell_type": "markdown",
      "id": "2232052f",
      "metadata": {
        "id": "2232052f"
      },
      "source": [
        "다음은 Or (논리)연산을 위한 신경망 코드의 일부이며 Forward propagation, Back-Propagation, Prediction에 관한 내용을 담고 있습니다."
      ]
    },
    {
      "cell_type": "code",
      "execution_count": null,
      "id": "972807a0",
      "metadata": {
        "id": "972807a0"
      },
      "outputs": [],
      "source": [
        "# 예제 데이터 \n",
        "X=np.array([[0,0,1,1],[0,1,0,1]])\n",
        "y=np.array([[0,1,1,1]])\n",
        "\n",
        "# Number of inputs, output, Hidden\n",
        "InputDim = 2\n",
        "OutputDim = 1\n",
        "HiddenDim = 2\n",
        "\n",
        "Sample_size = len(X[0])\n",
        "learning_rate = 0.1 # Learning rate\n",
        "epochs = 10000\n",
        "losses = []"
      ]
    },
    {
      "cell_type": "markdown",
      "id": "6eee025c",
      "metadata": {
        "id": "6eee025c"
      },
      "source": [
        "Neural Network를 위한 가중치 행렬(Weight과 Bias)을 정의하고 초기화 합니다. "
      ]
    },
    {
      "cell_type": "code",
      "execution_count": null,
      "id": "6000674e",
      "metadata": {
        "id": "6000674e"
      },
      "outputs": [],
      "source": [
        "# Define weight matrices for neural network\n",
        "Weight1 = np.random.rand(HiddenDim,InputDim)  \n",
        "Weight2 = np.random.rand(InputDim,HiddenDim)  \n",
        "Bias1 = np.random.rand(InputDim,1)\n",
        "Bias2 = np.random.rand(HiddenDim,1)"
      ]
    },
    {
      "cell_type": "markdown",
      "id": "4aa6dad8",
      "metadata": {
        "id": "4aa6dad8"
      },
      "source": [
        "우리가 만든 신경망의 Forward propagation을 위한 함수는 다음과 같습니다. (sigmoid 활성화 함수를 사용합니다)"
      ]
    },
    {
      "cell_type": "code",
      "execution_count": null,
      "id": "8fcadc0c",
      "metadata": {
        "id": "8fcadc0c"
      },
      "outputs": [],
      "source": [
        "def sigmoid(z):\n",
        "    z= 1/(1+np.exp(-z))\n",
        "    return z\n",
        "\n",
        "# Forward propagation\n",
        "def forward_prop(Weight1,Weight2,Bias1,Bias2, X):\n",
        "    Hidden1 = np.dot(Weight1,X) + Bias1\n",
        "    Prob1 = sigmoid(Hidden1)    \n",
        "    Hidden2 = np.dot(Weight2,Prob1)+ Bias2\n",
        "    Prob2 = sigmoid(Hidden2)\n",
        "    return Hidden1,Prob1,Hidden2,Prob2"
      ]
    },
    {
      "cell_type": "markdown",
      "id": "e93d31c6",
      "metadata": {
        "id": "e93d31c6"
      },
      "source": [
        "## 문제 1-2\n",
        "아래 코드틀의 빈칸에 Back propagation을 하는 코드를 작성하세요.\n",
        "\n",
        "\n",
        "*   Hint: Hidden2, Weight2, Hidden1, Weight1의 gradient 계산\n",
        "\n"
      ]
    },
    {
      "cell_type": "markdown",
      "id": "addddbfd",
      "metadata": {
        "id": "addddbfd"
      },
      "source": [
        "## 문제 1-3\n",
        "아래 코드틀의 빈칸에 Weight update를 하는 코드를 작성하세요."
      ]
    },
    {
      "cell_type": "code",
      "execution_count": null,
      "id": "35f431bd",
      "metadata": {
        "id": "35f431bd"
      },
      "outputs": [],
      "source": [
        "for i in range(epochs):\n",
        "    Hidden1,Prob1,Hidden2,Prob2 = forward_prop(Weight1,Weight2,Bias1,Bias2,X)\n",
        "    loss = -(1/Sample_size)*np.sum(y*np.log(Prob2)+(1-y)*np.log(1-Prob2))\n",
        "    losses.append(loss)\n",
        "    ####################################################\n",
        "    ############ 문제 1-2 Back-Propagation ##############\n",
        "    ####################################################\n",
        "    \n",
        "\n",
        "\n",
        "\n",
        "\n",
        "\n",
        "\n",
        "    ####################################################\n",
        "\n",
        "    ####################################################\n",
        "    ############## 문제 1-3 Weight Update ############### \n",
        "    ####################################################\n",
        "    \n",
        "\n",
        "\n",
        "\n",
        "\n",
        "    \n",
        "    ####################################################\n",
        "    \n",
        "    "
      ]
    },
    {
      "cell_type": "markdown",
      "id": "1abff97a",
      "metadata": {
        "id": "1abff97a"
      },
      "source": [
        "Epoch에 따른 Loss 값들을 그려보며, 훈련 진행 상황을 확인합니다"
      ]
    },
    {
      "cell_type": "code",
      "execution_count": null,
      "id": "b7c1ab34",
      "metadata": {
        "id": "b7c1ab34"
      },
      "outputs": [],
      "source": [
        "plt.plot(losses)\n",
        "plt.xlabel(\"EPOCHS\")\n",
        "plt.ylabel(\"Loss\")"
      ]
    },
    {
      "cell_type": "markdown",
      "id": "ffe446b2",
      "metadata": {
        "id": "ffe446b2"
      },
      "source": [
        "## 문제 1-4\n",
        "아래 코드틀에 우리가 훈련한 신경망에 대하여 데이터를 넣어 test하는 코드를 작성하세요. \n",
        "\n",
        "\n",
        "*   Forward_prop을 이용하여 input (1, 0), (0, 0), (0, 1), (1, 1) 에 대한 예측값(0또는 1)을 도출합니다.\n",
        "*   Hint : Forward_prop 마지막 확률값이 0.5 이상이면 1, 아니면 0으로 예측합니다\n"
      ]
    },
    {
      "cell_type": "code",
      "execution_count": null,
      "id": "54e41c77",
      "metadata": {
        "id": "54e41c77"
      },
      "outputs": [],
      "source": [
        "test1 = np.array([[1],[0]])\n",
        "test2 = np.array([[0],[0]])\n",
        "test3 = np.array([[0],[1]])\n",
        "test4 = np.array([[1],[1]])\n",
        "\n",
        "######################## 문제 1-4  #########################\n",
        "\n",
        "\n",
        "\n",
        "\n",
        "\n",
        "\n",
        "\n",
        "############################################################"
      ]
    },
    {
      "cell_type": "markdown",
      "id": "c69d0ee8",
      "metadata": {
        "id": "c69d0ee8"
      },
      "source": [
        "# 문제 2 - Implementing DNN using Pytorch\n",
        "문제 1에서는 Numpy만을 이용하여 DNN의 구조와 구현에 대해 알아보았습니다.  \n",
        "문제 2에서는 Pytorch를 사용하여 신경망을 구현하고 MNIST 데이터로 분류 모델을 실습합니다.  \n",
        "코드 참고 : Pytorch Tutorial(https://tutorials.pytorch.kr/beginner/basics/quickstart_tutorial.html)"
      ]
    },
    {
      "cell_type": "code",
      "execution_count": null,
      "id": "a2dfedcd",
      "metadata": {
        "id": "a2dfedcd"
      },
      "outputs": [],
      "source": [
        "!pip install torch"
      ]
    },
    {
      "cell_type": "markdown",
      "id": "f9a7971a",
      "metadata": {
        "id": "f9a7971a"
      },
      "source": [
        "Pytorch에서는 기초 데이터 처리를 위하여, Tensor라는 자료형을 주로 사용합니다. 필요한 모듈을 inport해 줍니다."
      ]
    },
    {
      "cell_type": "code",
      "execution_count": null,
      "id": "9d0d0301",
      "metadata": {
        "id": "9d0d0301"
      },
      "outputs": [],
      "source": [
        "import torch\n",
        "import torch.nn as nn\n",
        "from torch.utils.data import DataLoader\n",
        "from torchvision import datasets\n",
        "from torchvision.transforms import ToTensor\n",
        "import torchvision.transforms as transforms\n",
        "import torch.nn.functional as F\n",
        "import torchvision.datasets as dsets"
      ]
    },
    {
      "cell_type": "markdown",
      "id": "2ec3e843",
      "metadata": {
        "id": "2ec3e843"
      },
      "source": [
        "Pytorch를 이용하여 신경망을 만들기 위해 torch.nn 패키지를 이용합니다.,이는 신경망 설계를 위한 기초 클래스이며,  nn.Module을 상속하여 override합니다."
      ]
    },
    {
      "cell_type": "code",
      "execution_count": null,
      "id": "85bee819",
      "metadata": {
        "id": "85bee819"
      },
      "outputs": [],
      "source": [
        "class MySampleNetwork(nn.Module):\n",
        "    def __init__(self):\n",
        "        super(Model, self).__init__()\n",
        "        self.lin1 = nn.linear(1, 20, 5)\n",
        "        self.lin2 = nn.linear(20, 20, 5)\n",
        "\n",
        "    def forward(self, x):\n",
        "        x = F.relu(self.lin1(x))\n",
        "        return F.relu(self.lin2(x))"
      ]
    },
    {
      "cell_type": "markdown",
      "id": "677ac957",
      "metadata": {
        "id": "677ac957"
      },
      "source": [
        "MNIST는 기계 학습을 공부하기 위한 예제로 자주 활용되는 dataset으로, Training data 6만개, Test Data의 1만개의 28*28 손글씨 숫자 이미지로 구성되어 있습니다. torchvision.datasets에 MNIST 데이터가 포함되어 있어 아래와 같은 코드로 쉽게 데이터를 로드할 수 있습니다."
      ]
    },
    {
      "cell_type": "code",
      "execution_count": null,
      "id": "07ca6825",
      "metadata": {
        "id": "07ca6825"
      },
      "outputs": [],
      "source": [
        "# MNIST dataset\n",
        "training_data = dsets.MNIST(root='MNIST_data/',\n",
        "                          train=True,\n",
        "                          transform=transforms.ToTensor(),\n",
        "                          download=True)\n",
        "\n",
        "test_data = dsets.MNIST(root='MNIST_data/',\n",
        "                         train=False,\n",
        "                         transform=transforms.ToTensor(),\n",
        "                         download=True)"
      ]
    },
    {
      "cell_type": "markdown",
      "id": "31e998d9",
      "metadata": {
        "id": "31e998d9"
      },
      "source": [
        "Model 구축에 필요한 hyperparameter(Epochs, Batch size, Learning rate, loss function)를 설정해 줍니다  "
      ]
    },
    {
      "cell_type": "code",
      "execution_count": null,
      "id": "409c2b32",
      "metadata": {
        "id": "409c2b32"
      },
      "outputs": [],
      "source": [
        "# hyperparameter 설정\n",
        "import torch.optim as optim\n",
        "\n",
        "# hyperparameters\n",
        "training_epochs = 5\n",
        "batch_size = 100\n",
        "learning_rate=0.005\n",
        "criterion = torch.nn.CrossEntropyLoss()"
      ]
    },
    {
      "cell_type": "markdown",
      "id": "5e049e1e",
      "metadata": {
        "id": "5e049e1e"
      },
      "source": [
        "Pytorch의 Dataloader, 데이터를 다루고 모델을 훈련 및 시험하기 위하여 가장 주의를 기울여야 될 부분 중의 하나입니다.  Dataset을 Minibatch 형태로 만들어 주며, Batch size나, Shuffle 여부에 대한 것들을 설정할 수 있습니다."
      ]
    },
    {
      "cell_type": "code",
      "execution_count": null,
      "id": "7540e572",
      "metadata": {
        "id": "7540e572"
      },
      "outputs": [],
      "source": [
        "# data loader\n",
        "# train, test 각각의 data loader 생성\n",
        "train_loader = torch.utils.data.DataLoader(training_data, batch_size=batch_size, shuffle=True)\n",
        "test_loader = torch.utils.data.DataLoader(test_data, batch_size=batch_size, shuffle=True)\n",
        "\n",
        "for X, y in test_loader:\n",
        "    print(f\"Shape of X [N, C, H, W]: {X.shape}\")\n",
        "    print(f\"Shape of y: {y.shape} {y.dtype}\")\n",
        "    break"
      ]
    },
    {
      "cell_type": "code",
      "execution_count": null,
      "id": "28ca3125",
      "metadata": {
        "id": "28ca3125"
      },
      "outputs": [],
      "source": [
        "#TestData의 일부를 출력해 봅니다.\n",
        "row = 2\n",
        "column =3\n",
        "fig=plt.figure(figsize=(row, column),dpi=100)\n",
        "for i in range(1, row*column+1):\n",
        "    img = test_data.data[i].reshape(28,28)\n",
        "    ax = fig.add_subplot(row, column, i)\n",
        "    ax.set_xticks([])\n",
        "    ax.set_yticks([])\n",
        "    ax.title.set_text(test_data.targets.cpu().numpy()[i])\n",
        "    \n",
        "    plt.imshow(img,cmap='gray')\n",
        "plt.show()"
      ]
    },
    {
      "cell_type": "markdown",
      "id": "d7f3bd13",
      "metadata": {
        "id": "d7f3bd13"
      },
      "source": [
        "## 문제 2-1\n",
        "nn.Linear를 이용하여, 784의 입력 데이터에 대해 200차원의 출력값을 갖는 첫 번째 hidden layer(layer1), 100차원을 갖는 두 번째 layer(layer2), 그리고 10차원을 갖는 세 번째(마지막) layer(layer3)를 보유한 Class Mymodel을 완성합니다. (Hidden layer의 활성화 함수는 F.relu를 이용합니다.)"
      ]
    },
    {
      "cell_type": "markdown",
      "id": "c6bfd965",
      "metadata": {
        "id": "c6bfd965"
      },
      "source": [
        "## 문제 2-2\n",
        "아래 코드틀에서 forward 부분을 작성하세요."
      ]
    },
    {
      "cell_type": "code",
      "execution_count": null,
      "id": "2444f5cf",
      "metadata": {
        "id": "2444f5cf"
      },
      "outputs": [],
      "source": [
        "import torch.nn as nn\n",
        "import torch.nn.functional as F\n",
        "\n",
        "class Mymodel(nn.Module):\n",
        "    def __init__(self):\n",
        "        super(Mymodel, self).__init__()\n",
        "        self.flatten = nn.Flatten()\n",
        "        ###################################################\n",
        "        ################### 문제 2-1 #######################\n",
        "\n",
        "\n",
        "\n",
        "\n",
        "        ###################################################\n",
        "        \n",
        "    def forward(self,X):\n",
        "        X = F.relu(self.linear1(X.view(-1, 784)))\n",
        "        ###################################################\n",
        "        ################### 문제 2-2 #######################\n",
        "\n",
        "\n",
        "\n",
        "        ###################################################\n",
        "        return F.log_softmax(X, dim=1)\n",
        "    "
      ]
    },
    {
      "cell_type": "markdown",
      "id": "d91ac4bb",
      "metadata": {
        "id": "d91ac4bb"
      },
      "source": [
        "설계한 모델의 구조를 확인합니다."
      ]
    },
    {
      "cell_type": "code",
      "execution_count": null,
      "id": "73e66a73",
      "metadata": {
        "id": "73e66a73"
      },
      "outputs": [],
      "source": [
        "model = Mymodel()\n",
        "#print(model)"
      ]
    },
    {
      "cell_type": "markdown",
      "id": "c5e41d33",
      "metadata": {
        "id": "c5e41d33"
      },
      "source": [
        "Model 훈련에 필요한 optimizer를 설정해 줍니다.Optimizer는 Adam Optimizer를 사용합니다."
      ]
    },
    {
      "cell_type": "code",
      "execution_count": null,
      "id": "e304da93",
      "metadata": {
        "id": "e304da93"
      },
      "outputs": [],
      "source": [
        "optimizer = torch.optim.Adam(model.parameters(), lr=learning_rate)"
      ]
    },
    {
      "cell_type": "markdown",
      "id": "771006f1",
      "metadata": {
        "id": "771006f1"
      },
      "source": [
        "Model을 훈련시킵니다. GPU를 활용하고 싶다면, 다음의 코드를 주석 해제 하여 GPU 옵션을 지정합니다. GPU를 활용할 때에는 모델에 입력하는 모든 데이터가 GPU에 로드되어 있어야 합니다."
      ]
    },
    {
      "cell_type": "code",
      "execution_count": null,
      "id": "29f52817",
      "metadata": {
        "id": "29f52817"
      },
      "outputs": [],
      "source": [
        "# colab에서 '런타임 유형 변경'을 하면 gpu 사용할 수 있음\n",
        "#device = \"cuda\" if torch.cuda.is_available() else \"cpu\"\n",
        "#print(f\"Using {device} device\")"
      ]
    },
    {
      "cell_type": "code",
      "execution_count": null,
      "id": "629082d7",
      "metadata": {
        "id": "629082d7"
      },
      "outputs": [],
      "source": [
        "training_epochs = 5\n",
        "for epoch in range(training_epochs): # training_epochs 수만큼 반복\n",
        "    avg_loss = 0\n",
        "    for X_train, target in train_loader:\n",
        "        pred = model(X_train) # \n",
        "        optimizer.zero_grad() \n",
        "        loss = criterion(pred, target) # Model output과 target 비교\n",
        "        loss.backward() # gradient 계산\n",
        "        optimizer.step() # parameter 업데이트\n",
        "        avg_loss += loss / len(train_loader) \n",
        "    print('[Epoch: {:>3}] loss = {:>.9}'.format(epoch + 1, avg_loss))\n",
        " "
      ]
    },
    {
      "cell_type": "markdown",
      "id": "79415610",
      "metadata": {
        "id": "79415610"
      },
      "source": [
        "## 문제 2-3\n",
        "위에서 훈련한 모델을 Test하고자 합니다. 다음의 빈 칸을 채워, Test Accuracy를 계산하는 함수(Mytest)의 코드를 완성합니다.  \n",
        "(Hint : X_test를 모델에 통과시키고 정답을 맞추었는지 확인 후, 맞은 비율을 계산하여 백분율로 나타냅니다)"
      ]
    },
    {
      "cell_type": "code",
      "execution_count": null,
      "id": "1b046ae4",
      "metadata": {
        "id": "1b046ae4"
      },
      "outputs": [],
      "source": [
        "def Mytest(model, testloader):\n",
        "    model.eval()\n",
        "    with torch.no_grad(): \n",
        "        correct = 0\n",
        "        total = 0\n",
        "        for X_test, target in test_loader:\n",
        "            out = model(X_test.data)\n",
        "            #print(out, 1)\n",
        "            ###################################################\n",
        "            ################### 문제 2-3 #######################\n",
        "\n",
        "\n",
        "\n",
        "\n",
        "            ####################################################     \n",
        "    return test_acc\n",
        "\n",
        "\n",
        "print('Test Accuracy: ', Mytest(model, test_loader))"
      ]
    },
    {
      "cell_type": "markdown",
      "id": "9e092c3a",
      "metadata": {
        "id": "9e092c3a"
      },
      "source": [
        "# 문제 3 - CNN\n",
        "CNN을 구현하여 MNIST 데이터로 모델을 학습시켜 봅시다.  \n",
        "DNN과 CNN이 어떻게 다른지 비교하면서 과제를 수행해보세요. "
      ]
    },
    {
      "cell_type": "code",
      "execution_count": null,
      "id": "765a5406",
      "metadata": {
        "id": "765a5406"
      },
      "outputs": [],
      "source": [
        "import torch\n",
        "torch.manual_seed(17) # 전체 seed 설정\n",
        "\n",
        "### Data Augmentation\n",
        "\n",
        "import torchvision\n",
        "from torchvision import transforms\n",
        "\n",
        "import torch\n",
        "import torch.nn as nn\n",
        "from torch.utils.data import DataLoader\n",
        "from torchvision import datasets\n",
        "from torchvision.transforms import ToTensor\n",
        "import torchvision.transforms as transforms\n",
        "import torch.nn.functional as F\n",
        "import torchvision.datasets as dsets"
      ]
    },
    {
      "cell_type": "code",
      "execution_count": null,
      "id": "650ef778",
      "metadata": {
        "id": "650ef778"
      },
      "outputs": [],
      "source": [
        "# transform을 통해 이미지를 변형시켜 data augmentation을 적용합니다.\n",
        "\n",
        "custom_transform = transforms.Compose([\n",
        "  transforms.RandomRotation(degrees=(0, 180)),\n",
        "  transforms.ToTensor(),\n",
        "])"
      ]
    },
    {
      "cell_type": "code",
      "execution_count": null,
      "id": "0cf400c7",
      "metadata": {
        "id": "0cf400c7"
      },
      "outputs": [],
      "source": [
        "# MNIST dataset\n",
        "training_data = dsets.MNIST(root='MNIST_data/',\n",
        "                          train=True,\n",
        "                          transform=custom_transform, # transform 적용하여 데이터 불러오기\n",
        "                          download=True)\n",
        "\n",
        "test_data = dsets.MNIST(root='MNIST_data/',\n",
        "                         train=False,\n",
        "                         transform=custom_transform, # transform 적용하여 데이터 불러오기\n",
        "                         download=True)\n"
      ]
    },
    {
      "cell_type": "markdown",
      "id": "d5715c58",
      "metadata": {
        "id": "d5715c58"
      },
      "source": [
        "### Define Dataloader"
      ]
    },
    {
      "cell_type": "code",
      "execution_count": null,
      "id": "e12fa543",
      "metadata": {
        "id": "e12fa543"
      },
      "outputs": [],
      "source": [
        "# data loader\n",
        "# train, test 각각의 data loader 생성\n",
        "batch_size = 16\n",
        "train_loader = torch.utils.data.DataLoader(training_data, batch_size=batch_size, shuffle=True)\n",
        "test_loader = torch.utils.data.DataLoader(test_data, batch_size=batch_size, shuffle=True)"
      ]
    },
    {
      "cell_type": "markdown",
      "id": "9a61ba9b",
      "metadata": {
        "id": "9a61ba9b"
      },
      "source": [
        "### Transformed image visualization"
      ]
    },
    {
      "cell_type": "code",
      "execution_count": null,
      "id": "8fca1c0a",
      "metadata": {
        "id": "8fca1c0a"
      },
      "outputs": [],
      "source": [
        "import matplotlib.pyplot as plt\n",
        "import numpy as np"
      ]
    },
    {
      "cell_type": "code",
      "execution_count": null,
      "id": "43c8e989",
      "metadata": {
        "id": "43c8e989"
      },
      "outputs": [],
      "source": [
        "# functions to show an image\n",
        "\n",
        "train_loader_ = torch.utils.data.DataLoader(training_data, batch_size=4, shuffle=True)\n",
        "def imshow(img):\n",
        "    # img = img / 2 + 0.5     # unnormalize\n",
        "    npimg = img.numpy()\n",
        "    plt.imshow(np.transpose(npimg, (1, 2, 0)))\n",
        "    plt.show()\n",
        "\n",
        "\n",
        "# get some random training images\n",
        "dataiter = iter(train_loader_)\n",
        "images, labels = next(dataiter)\n",
        "\n",
        "# show images\n",
        "imshow(torchvision.utils.make_grid(images))\n"
      ]
    },
    {
      "cell_type": "markdown",
      "id": "64720f37",
      "metadata": {
        "id": "64720f37"
      },
      "source": [
        "## 문제 3-1. Define a CNN architecture\n",
        "아래 주어진 ```class Net```에서 forward 함수를 참고하여 init 함수에 있는 빈칸에 layer를 정의하세요.  \n",
        "\n",
        "\n",
        "*   conv2d 함수에서 kernel_size=3으로 설정해주세요.\n",
        "\n"
      ]
    },
    {
      "cell_type": "code",
      "execution_count": null,
      "id": "ac6d5626",
      "metadata": {
        "id": "ac6d5626"
      },
      "outputs": [],
      "source": [
        "import torch.nn as nn\n",
        "import torch.nn.functional as F\n",
        "\n",
        "class Net(nn.Module):\n",
        "    def __init__(self):\n",
        "        super().__init__()\n",
        "        ###############################\n",
        "        ########## 문제 3-1 ############\n",
        "\n",
        "\n",
        "\n",
        "\n",
        "\n",
        "        ###############################\n",
        "    def forward(self, x):\n",
        "        x = self.pool(F.relu(self.conv1(x)))\n",
        "        x = self.pool(F.relu(self.conv2(x)))\n",
        "        x = torch.nn.Flatten()(x) # flatten all dimensions except batch\n",
        "        x = self.fc(x)\n",
        "        return x\n",
        "\n",
        "net = Net()"
      ]
    },
    {
      "cell_type": "code",
      "execution_count": null,
      "id": "6a89800d",
      "metadata": {
        "id": "6a89800d"
      },
      "outputs": [],
      "source": [
        "# cpu OR gpu 설정\n",
        "# gpu가 있을 경우, device로 cuda를 사용함\n",
        "# colab에서 '런타임 유형 변경'을 하면 gpu 사용할 수 있음\n",
        "device = \"cuda\" if torch.cuda.is_available() else \"cpu\"\n",
        "print(f\"Using {device} device\")"
      ]
    },
    {
      "cell_type": "code",
      "execution_count": null,
      "id": "51729676",
      "metadata": {
        "id": "51729676"
      },
      "outputs": [],
      "source": [
        "criterion = torch.nn.CrossEntropyLoss()\n",
        "optimizer = torch.optim.Adam(net.parameters(), lr=0.005)"
      ]
    },
    {
      "cell_type": "code",
      "execution_count": null,
      "id": "e1b260da",
      "metadata": {
        "id": "e1b260da"
      },
      "outputs": [],
      "source": [
        "net = net.to(device) # device로 Network 전송\n",
        "print(net) # 모델 구조 확인"
      ]
    },
    {
      "cell_type": "code",
      "execution_count": null,
      "id": "ee872801",
      "metadata": {
        "id": "ee872801"
      },
      "outputs": [],
      "source": [
        "# training\n",
        "EPOCHS = 20\n",
        "for epoch in range(EPOCHS): # epochs수만큼 반복\n",
        "    avg_loss = 0\n",
        "    for data, target in train_loader:\n",
        "        # print(data.shape)\n",
        "        data = data.cuda() # 데이터도 gpu로 보내야함\n",
        "        target = target.cuda()\n",
        "        pred = net(data) # \n",
        "        # print(pred)\n",
        "        optimizer.zero_grad() \n",
        "        loss = criterion(pred, target) # Model output과 target 비교\n",
        "        loss.backward() # gradient 계산\n",
        "        optimizer.step() # parameter 업데이트\n",
        "        avg_loss += loss / len(train_loader) \n",
        "    print('[Epoch: {:>4}] loss = {:>.9}'.format(epoch + 1, avg_loss))"
      ]
    },
    {
      "cell_type": "code",
      "execution_count": null,
      "id": "06ff1406",
      "metadata": {
        "id": "06ff1406"
      },
      "outputs": [],
      "source": [
        "net.to(\"cpu\") \n",
        "# gpu로 학습된 모델을 cpu로 보내기 \n",
        "# (Mytest()는 cpu에서 작동, Mytest()의 데이터와 타겟을 gpu로 보낼 수 있도록 코드를 수정하면 모델을 gpu에 두고도 테스트 가능)\n",
        "\n",
        "net.eval()\n",
        "print('Test Accuracy: ', Mytest(net, test_loader))"
      ]
    },
    {
      "cell_type": "markdown",
      "id": "70d22e1a",
      "metadata": {
        "id": "70d22e1a"
      },
      "source": [
        "## 문제 3-2\n",
        "강의노트에 있는 regularization 기법 증 한 가지 이상 사용하고 hyper-parameter(kernel size, layer 수 등) 한 가지 이상을 tuning하여 모델의 정확도가 94% 이상이 되도록 향상시키세요.\n",
        "* Net()을 자유롭게 수정 가능\n",
        "* 모델을 고정시키기 위해 ```torch.manual_seed()``` 사용 가능 \n",
        "* 정확도가 98% 이상이면 가산점 부여"
      ]
    },
    {
      "cell_type": "code",
      "execution_count": null,
      "id": "e7XfGErr7-BN",
      "metadata": {
        "id": "e7XfGErr7-BN"
      },
      "outputs": [],
      "source": [
        "# 문제 3-2 #\n",
        "# 코드 작성"
      ]
    },
    {
      "cell_type": "code",
      "execution_count": null,
      "id": "b51f74cf",
      "metadata": {
        "id": "b51f74cf"
      },
      "outputs": [],
      "source": [
        "net.to('cpu')\n",
        "net.eval()\n",
        "print('Test Accuracy: ', Mytest(net, test_loader))"
      ]
    }
  ],
  "metadata": {
    "accelerator": "GPU",
    "colab": {
      "gpuType": "A100",
      "machine_shape": "hm",
      "provenance": [],
      "include_colab_link": true
    },
    "gpuClass": "standard",
    "kernelspec": {
      "display_name": "Python 3 (ipykernel)",
      "language": "python",
      "name": "python3"
    },
    "language_info": {
      "codemirror_mode": {
        "name": "ipython",
        "version": 3
      },
      "file_extension": ".py",
      "mimetype": "text/x-python",
      "name": "python",
      "nbconvert_exporter": "python",
      "pygments_lexer": "ipython3",
      "version": "3.9.13"
    }
  },
  "nbformat": 4,
  "nbformat_minor": 5
}